{
 "cells": [
  {
   "cell_type": "markdown",
   "id": "7e282d4d-2243-443a-b38b-1853f6f36639",
   "metadata": {},
   "source": [
    "# Digital Futures Academy Project: **Swan Teleco**\n",
    "> Team Name: *Swanning About Solutions*  \n",
    "> Team Members: Archie, Robin, Mithuna"
   ]
  },
  {
   "cell_type": "code",
   "execution_count": 2,
   "id": "318def17-1e3f-4cc2-87a4-909a5d14e22d",
   "metadata": {},
   "outputs": [],
   "source": [
    "import pandas as pd\n",
    "import numpy as np\n",
    "import seaborn as sns\n",
    "import matplotlib.pyplot as plt\n",
    "\n",
    "from sklearn.model_selection import train_test_split\n",
    "from sklearn.preprocessing import MinMaxScaler \n",
    "from sklearn import metrics\n",
    "\n",
    "import statsmodels.api as sm\n",
    "from statsmodels.stats.outliers_influence import variance_inflation_factor"
   ]
  },
  {
   "cell_type": "code",
   "execution_count": 3,
   "id": "af7f1b79-1025-48bb-8eb3-9a43d82aa784",
   "metadata": {},
   "outputs": [],
   "source": [
    "pd.set_option('display.max_columns',100)"
   ]
  },
  {
   "cell_type": "code",
   "execution_count": 4,
   "id": "5378e0e4-e6d3-4067-bf1d-70faf5181a9c",
   "metadata": {},
   "outputs": [],
   "source": [
    "# Read the data into a Pandas DataFrame\n",
    "data = pd.read_excel(\"1 - Project Data.xlsx\")"
   ]
  },
  {
   "cell_type": "markdown",
   "id": "9a35bdac-88c8-4337-ab3a-a5abdcdb66de",
   "metadata": {},
   "source": [
    "`data` DataFrame for train-test split"
   ]
  },
  {
   "cell_type": "code",
   "execution_count": 6,
   "id": "ed563d09-358b-445b-9694-029ffc17d12d",
   "metadata": {},
   "outputs": [],
   "source": [
    "data.set_index('CustomerID', inplace=True)"
   ]
  },
  {
   "cell_type": "markdown",
   "id": "3f12d738-0859-4e31-ae8b-18d3a37de6bb",
   "metadata": {},
   "source": [
    "`swan` DataFrame for EDA"
   ]
  },
  {
   "cell_type": "code",
   "execution_count": 8,
   "id": "2a8d1b25-860b-4056-8381-6b001fa6a0bb",
   "metadata": {},
   "outputs": [],
   "source": [
    "swan = data.copy()"
   ]
  },
  {
   "cell_type": "code",
   "execution_count": 9,
   "id": "1993c902-d7de-4ed4-a32e-9ea4e2c39f84",
   "metadata": {},
   "outputs": [
    {
     "data": {
      "text/html": [
       "<div>\n",
       "<style scoped>\n",
       "    .dataframe tbody tr th:only-of-type {\n",
       "        vertical-align: middle;\n",
       "    }\n",
       "\n",
       "    .dataframe tbody tr th {\n",
       "        vertical-align: top;\n",
       "    }\n",
       "\n",
       "    .dataframe thead th {\n",
       "        text-align: right;\n",
       "    }\n",
       "</style>\n",
       "<table border=\"1\" class=\"dataframe\">\n",
       "  <thead>\n",
       "    <tr style=\"text-align: right;\">\n",
       "      <th></th>\n",
       "      <th>Count</th>\n",
       "      <th>Country</th>\n",
       "      <th>State</th>\n",
       "      <th>City</th>\n",
       "      <th>Zip Code</th>\n",
       "      <th>Lat Long</th>\n",
       "      <th>Latitude</th>\n",
       "      <th>Longitude</th>\n",
       "      <th>Gender</th>\n",
       "      <th>Senior Citizen</th>\n",
       "      <th>Partner</th>\n",
       "      <th>Dependents</th>\n",
       "      <th>Tenure Months</th>\n",
       "      <th>Phone Service</th>\n",
       "      <th>Multiple Lines</th>\n",
       "      <th>Internet Service</th>\n",
       "      <th>Online Security</th>\n",
       "      <th>Online Backup</th>\n",
       "      <th>Device Protection</th>\n",
       "      <th>Tech Support</th>\n",
       "      <th>Streaming TV</th>\n",
       "      <th>Streaming Movies</th>\n",
       "      <th>Contract</th>\n",
       "      <th>Paperless Billing</th>\n",
       "      <th>Payment Method</th>\n",
       "      <th>Monthly Charges</th>\n",
       "      <th>Total Charges</th>\n",
       "      <th>Churn Label</th>\n",
       "      <th>Churn Value</th>\n",
       "      <th>Churn Reason</th>\n",
       "    </tr>\n",
       "    <tr>\n",
       "      <th>CustomerID</th>\n",
       "      <th></th>\n",
       "      <th></th>\n",
       "      <th></th>\n",
       "      <th></th>\n",
       "      <th></th>\n",
       "      <th></th>\n",
       "      <th></th>\n",
       "      <th></th>\n",
       "      <th></th>\n",
       "      <th></th>\n",
       "      <th></th>\n",
       "      <th></th>\n",
       "      <th></th>\n",
       "      <th></th>\n",
       "      <th></th>\n",
       "      <th></th>\n",
       "      <th></th>\n",
       "      <th></th>\n",
       "      <th></th>\n",
       "      <th></th>\n",
       "      <th></th>\n",
       "      <th></th>\n",
       "      <th></th>\n",
       "      <th></th>\n",
       "      <th></th>\n",
       "      <th></th>\n",
       "      <th></th>\n",
       "      <th></th>\n",
       "      <th></th>\n",
       "      <th></th>\n",
       "    </tr>\n",
       "  </thead>\n",
       "  <tbody>\n",
       "    <tr>\n",
       "      <th>3668-QPYBK</th>\n",
       "      <td>1</td>\n",
       "      <td>United States</td>\n",
       "      <td>California</td>\n",
       "      <td>Los Angeles</td>\n",
       "      <td>90003</td>\n",
       "      <td>33.964131, -118.272783</td>\n",
       "      <td>33.964131</td>\n",
       "      <td>-118.272783</td>\n",
       "      <td>Male</td>\n",
       "      <td>No</td>\n",
       "      <td>No</td>\n",
       "      <td>No</td>\n",
       "      <td>2</td>\n",
       "      <td>Yes</td>\n",
       "      <td>No</td>\n",
       "      <td>DSL</td>\n",
       "      <td>Yes</td>\n",
       "      <td>Yes</td>\n",
       "      <td>No</td>\n",
       "      <td>No</td>\n",
       "      <td>No</td>\n",
       "      <td>No</td>\n",
       "      <td>Month-to-month</td>\n",
       "      <td>Yes</td>\n",
       "      <td>Mailed check</td>\n",
       "      <td>53.85</td>\n",
       "      <td>108.15</td>\n",
       "      <td>Yes</td>\n",
       "      <td>1</td>\n",
       "      <td>Competitor made better offer</td>\n",
       "    </tr>\n",
       "    <tr>\n",
       "      <th>9237-HQITU</th>\n",
       "      <td>1</td>\n",
       "      <td>United States</td>\n",
       "      <td>California</td>\n",
       "      <td>Los Angeles</td>\n",
       "      <td>90005</td>\n",
       "      <td>34.059281, -118.30742</td>\n",
       "      <td>34.059281</td>\n",
       "      <td>-118.307420</td>\n",
       "      <td>Female</td>\n",
       "      <td>No</td>\n",
       "      <td>No</td>\n",
       "      <td>Yes</td>\n",
       "      <td>2</td>\n",
       "      <td>Yes</td>\n",
       "      <td>No</td>\n",
       "      <td>Fiber optic</td>\n",
       "      <td>No</td>\n",
       "      <td>No</td>\n",
       "      <td>No</td>\n",
       "      <td>No</td>\n",
       "      <td>No</td>\n",
       "      <td>No</td>\n",
       "      <td>Month-to-month</td>\n",
       "      <td>Yes</td>\n",
       "      <td>Electronic check</td>\n",
       "      <td>70.70</td>\n",
       "      <td>151.65</td>\n",
       "      <td>Yes</td>\n",
       "      <td>1</td>\n",
       "      <td>Moved</td>\n",
       "    </tr>\n",
       "    <tr>\n",
       "      <th>9305-CDSKC</th>\n",
       "      <td>1</td>\n",
       "      <td>United States</td>\n",
       "      <td>California</td>\n",
       "      <td>Los Angeles</td>\n",
       "      <td>90006</td>\n",
       "      <td>34.048013, -118.293953</td>\n",
       "      <td>34.048013</td>\n",
       "      <td>-118.293953</td>\n",
       "      <td>Female</td>\n",
       "      <td>No</td>\n",
       "      <td>No</td>\n",
       "      <td>Yes</td>\n",
       "      <td>8</td>\n",
       "      <td>Yes</td>\n",
       "      <td>Yes</td>\n",
       "      <td>Fiber optic</td>\n",
       "      <td>No</td>\n",
       "      <td>No</td>\n",
       "      <td>Yes</td>\n",
       "      <td>No</td>\n",
       "      <td>Yes</td>\n",
       "      <td>Yes</td>\n",
       "      <td>Month-to-month</td>\n",
       "      <td>Yes</td>\n",
       "      <td>Electronic check</td>\n",
       "      <td>99.65</td>\n",
       "      <td>820.5</td>\n",
       "      <td>Yes</td>\n",
       "      <td>1</td>\n",
       "      <td>Moved</td>\n",
       "    </tr>\n",
       "    <tr>\n",
       "      <th>7892-POOKP</th>\n",
       "      <td>1</td>\n",
       "      <td>United States</td>\n",
       "      <td>California</td>\n",
       "      <td>Los Angeles</td>\n",
       "      <td>90010</td>\n",
       "      <td>34.062125, -118.315709</td>\n",
       "      <td>34.062125</td>\n",
       "      <td>-118.315709</td>\n",
       "      <td>Female</td>\n",
       "      <td>No</td>\n",
       "      <td>Yes</td>\n",
       "      <td>Yes</td>\n",
       "      <td>28</td>\n",
       "      <td>Yes</td>\n",
       "      <td>Yes</td>\n",
       "      <td>Fiber optic</td>\n",
       "      <td>No</td>\n",
       "      <td>No</td>\n",
       "      <td>Yes</td>\n",
       "      <td>Yes</td>\n",
       "      <td>Yes</td>\n",
       "      <td>Yes</td>\n",
       "      <td>Month-to-month</td>\n",
       "      <td>Yes</td>\n",
       "      <td>Electronic check</td>\n",
       "      <td>104.80</td>\n",
       "      <td>3046.05</td>\n",
       "      <td>Yes</td>\n",
       "      <td>1</td>\n",
       "      <td>Moved</td>\n",
       "    </tr>\n",
       "    <tr>\n",
       "      <th>0280-XJGEX</th>\n",
       "      <td>1</td>\n",
       "      <td>United States</td>\n",
       "      <td>California</td>\n",
       "      <td>Los Angeles</td>\n",
       "      <td>90015</td>\n",
       "      <td>34.039224, -118.266293</td>\n",
       "      <td>34.039224</td>\n",
       "      <td>-118.266293</td>\n",
       "      <td>Male</td>\n",
       "      <td>No</td>\n",
       "      <td>No</td>\n",
       "      <td>Yes</td>\n",
       "      <td>49</td>\n",
       "      <td>Yes</td>\n",
       "      <td>Yes</td>\n",
       "      <td>Fiber optic</td>\n",
       "      <td>No</td>\n",
       "      <td>Yes</td>\n",
       "      <td>Yes</td>\n",
       "      <td>No</td>\n",
       "      <td>Yes</td>\n",
       "      <td>Yes</td>\n",
       "      <td>Month-to-month</td>\n",
       "      <td>Yes</td>\n",
       "      <td>Bank transfer (automatic)</td>\n",
       "      <td>103.70</td>\n",
       "      <td>5036.3</td>\n",
       "      <td>Yes</td>\n",
       "      <td>1</td>\n",
       "      <td>Competitor had better devices</td>\n",
       "    </tr>\n",
       "  </tbody>\n",
       "</table>\n",
       "</div>"
      ],
      "text/plain": [
       "            Count        Country       State         City  Zip Code  \\\n",
       "CustomerID                                                            \n",
       "3668-QPYBK      1  United States  California  Los Angeles     90003   \n",
       "9237-HQITU      1  United States  California  Los Angeles     90005   \n",
       "9305-CDSKC      1  United States  California  Los Angeles     90006   \n",
       "7892-POOKP      1  United States  California  Los Angeles     90010   \n",
       "0280-XJGEX      1  United States  California  Los Angeles     90015   \n",
       "\n",
       "                          Lat Long   Latitude   Longitude  Gender  \\\n",
       "CustomerID                                                          \n",
       "3668-QPYBK  33.964131, -118.272783  33.964131 -118.272783    Male   \n",
       "9237-HQITU   34.059281, -118.30742  34.059281 -118.307420  Female   \n",
       "9305-CDSKC  34.048013, -118.293953  34.048013 -118.293953  Female   \n",
       "7892-POOKP  34.062125, -118.315709  34.062125 -118.315709  Female   \n",
       "0280-XJGEX  34.039224, -118.266293  34.039224 -118.266293    Male   \n",
       "\n",
       "           Senior Citizen Partner Dependents  Tenure Months Phone Service  \\\n",
       "CustomerID                                                                  \n",
       "3668-QPYBK             No      No         No              2           Yes   \n",
       "9237-HQITU             No      No        Yes              2           Yes   \n",
       "9305-CDSKC             No      No        Yes              8           Yes   \n",
       "7892-POOKP             No     Yes        Yes             28           Yes   \n",
       "0280-XJGEX             No      No        Yes             49           Yes   \n",
       "\n",
       "           Multiple Lines Internet Service Online Security Online Backup  \\\n",
       "CustomerID                                                                 \n",
       "3668-QPYBK             No              DSL             Yes           Yes   \n",
       "9237-HQITU             No      Fiber optic              No            No   \n",
       "9305-CDSKC            Yes      Fiber optic              No            No   \n",
       "7892-POOKP            Yes      Fiber optic              No            No   \n",
       "0280-XJGEX            Yes      Fiber optic              No           Yes   \n",
       "\n",
       "           Device Protection Tech Support Streaming TV Streaming Movies  \\\n",
       "CustomerID                                                                \n",
       "3668-QPYBK                No           No           No               No   \n",
       "9237-HQITU                No           No           No               No   \n",
       "9305-CDSKC               Yes           No          Yes              Yes   \n",
       "7892-POOKP               Yes          Yes          Yes              Yes   \n",
       "0280-XJGEX               Yes           No          Yes              Yes   \n",
       "\n",
       "                  Contract Paperless Billing             Payment Method  \\\n",
       "CustomerID                                                                \n",
       "3668-QPYBK  Month-to-month               Yes               Mailed check   \n",
       "9237-HQITU  Month-to-month               Yes           Electronic check   \n",
       "9305-CDSKC  Month-to-month               Yes           Electronic check   \n",
       "7892-POOKP  Month-to-month               Yes           Electronic check   \n",
       "0280-XJGEX  Month-to-month               Yes  Bank transfer (automatic)   \n",
       "\n",
       "            Monthly Charges Total Charges Churn Label  Churn Value  \\\n",
       "CustomerID                                                           \n",
       "3668-QPYBK            53.85        108.15         Yes            1   \n",
       "9237-HQITU            70.70        151.65         Yes            1   \n",
       "9305-CDSKC            99.65         820.5         Yes            1   \n",
       "7892-POOKP           104.80       3046.05         Yes            1   \n",
       "0280-XJGEX           103.70        5036.3         Yes            1   \n",
       "\n",
       "                             Churn Reason  \n",
       "CustomerID                                 \n",
       "3668-QPYBK   Competitor made better offer  \n",
       "9237-HQITU                          Moved  \n",
       "9305-CDSKC                          Moved  \n",
       "7892-POOKP                          Moved  \n",
       "0280-XJGEX  Competitor had better devices  "
      ]
     },
     "execution_count": 9,
     "metadata": {},
     "output_type": "execute_result"
    }
   ],
   "source": [
    "swan.head()"
   ]
  },
  {
   "cell_type": "markdown",
   "id": "88189b6c-13f6-456b-bd98-a0bbb647888f",
   "metadata": {
    "jp-MarkdownHeadingCollapsed": true
   },
   "source": [
    "## <u>**EDA**<u>"
   ]
  },
  {
   "cell_type": "markdown",
   "id": "1b8fd30a-7bad-4f2f-8b59-441185c1a0ca",
   "metadata": {},
   "source": [
    "### Cleaning\n",
    "* Redundant column removal\n",
    "  * `Churn Label`\n",
    "* Correcting data types\n",
    "  * `Total Charges` --> object to float\n",
    "* Null Value handling\n",
    "  * Replace ' ' with 0 where `Total Charges == ' '`"
   ]
  },
  {
   "cell_type": "code",
   "execution_count": 12,
   "id": "b3fb305b-dc2c-40a5-86d1-6cd65666464d",
   "metadata": {},
   "outputs": [
    {
     "name": "stdout",
     "output_type": "stream",
     "text": [
      "<class 'pandas.core.frame.DataFrame'>\n",
      "Index: 7043 entries, 3668-QPYBK to 3186-AJIEK\n",
      "Data columns (total 30 columns):\n",
      " #   Column             Non-Null Count  Dtype  \n",
      "---  ------             --------------  -----  \n",
      " 0   Count              7043 non-null   int64  \n",
      " 1   Country            7043 non-null   object \n",
      " 2   State              7043 non-null   object \n",
      " 3   City               7043 non-null   object \n",
      " 4   Zip Code           7043 non-null   int64  \n",
      " 5   Lat Long           7043 non-null   object \n",
      " 6   Latitude           7043 non-null   float64\n",
      " 7   Longitude          7043 non-null   float64\n",
      " 8   Gender             7043 non-null   object \n",
      " 9   Senior Citizen     7043 non-null   object \n",
      " 10  Partner            7043 non-null   object \n",
      " 11  Dependents         7043 non-null   object \n",
      " 12  Tenure Months      7043 non-null   int64  \n",
      " 13  Phone Service      7043 non-null   object \n",
      " 14  Multiple Lines     7043 non-null   object \n",
      " 15  Internet Service   7043 non-null   object \n",
      " 16  Online Security    7043 non-null   object \n",
      " 17  Online Backup      7043 non-null   object \n",
      " 18  Device Protection  7043 non-null   object \n",
      " 19  Tech Support       7043 non-null   object \n",
      " 20  Streaming TV       7043 non-null   object \n",
      " 21  Streaming Movies   7043 non-null   object \n",
      " 22  Contract           7043 non-null   object \n",
      " 23  Paperless Billing  7043 non-null   object \n",
      " 24  Payment Method     7043 non-null   object \n",
      " 25  Monthly Charges    7043 non-null   float64\n",
      " 26  Total Charges      7043 non-null   object \n",
      " 27  Churn Label        7043 non-null   object \n",
      " 28  Churn Value        7043 non-null   int64  \n",
      " 29  Churn Reason       1869 non-null   object \n",
      "dtypes: float64(3), int64(4), object(23)\n",
      "memory usage: 1.7+ MB\n"
     ]
    }
   ],
   "source": [
    "# Check nulls and datatypes\n",
    "data.info()"
   ]
  },
  {
   "cell_type": "code",
   "execution_count": 13,
   "id": "be036ef8-ecff-4c0c-96ce-affbaeaef2f2",
   "metadata": {},
   "outputs": [
    {
     "data": {
      "text/plain": [
       "True"
      ]
     },
     "execution_count": 13,
     "metadata": {},
     "output_type": "execute_result"
    }
   ],
   "source": [
    "# Check there are no duplicates\n",
    "len(data) == len(data.drop_duplicates())"
   ]
  },
  {
   "cell_type": "code",
   "execution_count": 14,
   "id": "1a269579-7ab9-44cf-abd2-c6ec1f5e93fc",
   "metadata": {},
   "outputs": [
    {
     "data": {
      "text/plain": [
       "7043"
      ]
     },
     "execution_count": 14,
     "metadata": {},
     "output_type": "execute_result"
    }
   ],
   "source": [
    "# Check number of rows\n",
    "data.shape[0]"
   ]
  },
  {
   "cell_type": "code",
   "execution_count": 15,
   "id": "46c054b3-12e3-4fef-ae0b-8d9b0645bfc0",
   "metadata": {},
   "outputs": [
    {
     "data": {
      "text/plain": [
       "7043"
      ]
     },
     "execution_count": 15,
     "metadata": {},
     "output_type": "execute_result"
    }
   ],
   "source": [
    "# Check Churn Label is coded to Churn Value correctly\n",
    "((data['Churn Label'] == 'No')&(data['Churn Value'] == 0)).sum() + ((data['Churn Label'] == 'Yes')&(data['Churn Value'] == 1)).sum()"
   ]
  },
  {
   "cell_type": "code",
   "execution_count": 16,
   "id": "c7e48306-626d-45b2-b9ea-502aa831e225",
   "metadata": {},
   "outputs": [],
   "source": [
    "# Drop redundant column\n",
    "data.drop(columns = ['Churn Label'], inplace =True)"
   ]
  },
  {
   "cell_type": "code",
   "execution_count": 17,
   "id": "b265684e-e0ba-4311-9251-c227de332196",
   "metadata": {},
   "outputs": [
    {
     "data": {
      "text/plain": [
       "11"
      ]
     },
     "execution_count": 17,
     "metadata": {},
     "output_type": "execute_result"
    }
   ],
   "source": [
    "# Locate sneaky missing values in Total Charges\n",
    "(data['Total Charges'] == ' ').sum()"
   ]
  },
  {
   "cell_type": "code",
   "execution_count": 18,
   "id": "283acd3e-c141-49af-b7f0-2e6bc8d96367",
   "metadata": {},
   "outputs": [
    {
     "data": {
      "text/plain": [
       "CustomerID\n",
       "4472-LVYGI    0\n",
       "3115-CZMZD    0\n",
       "5709-LVOEQ    0\n",
       "4367-NUYAO    0\n",
       "1371-DWPAZ    0\n",
       "7644-OMVMY    0\n",
       "3213-VVOLG    0\n",
       "2520-SGTTA    0\n",
       "2923-ARZLG    0\n",
       "4075-WKNIU    0\n",
       "2775-SEFEE    0\n",
       "Name: Tenure Months, dtype: int64"
      ]
     },
     "execution_count": 18,
     "metadata": {},
     "output_type": "execute_result"
    }
   ],
   "source": [
    "# Check that there's no inconsistancy with tenure\n",
    "data[data['Total Charges'] == ' ']['Tenure Months']"
   ]
  },
  {
   "cell_type": "code",
   "execution_count": 19,
   "id": "e47893c4-59d3-4469-a49a-d7af04ac06a2",
   "metadata": {},
   "outputs": [
    {
     "name": "stderr",
     "output_type": "stream",
     "text": [
      "/var/folders/gk/0ym9h57d05v80m40rlpbz2bm0000gq/T/ipykernel_69774/1432883751.py:2: FutureWarning: A value is trying to be set on a copy of a DataFrame or Series through chained assignment using an inplace method.\n",
      "The behavior will change in pandas 3.0. This inplace method will never work because the intermediate object on which we are setting values always behaves as a copy.\n",
      "\n",
      "For example, when doing 'df[col].method(value, inplace=True)', try using 'df.method({col: value}, inplace=True)' or df[col] = df[col].method(value) instead, to perform the operation inplace on the original object.\n",
      "\n",
      "\n",
      "  data['Total Charges'].replace(' ', 0, inplace=True)\n",
      "/var/folders/gk/0ym9h57d05v80m40rlpbz2bm0000gq/T/ipykernel_69774/1432883751.py:2: FutureWarning: Downcasting behavior in `replace` is deprecated and will be removed in a future version. To retain the old behavior, explicitly call `result.infer_objects(copy=False)`. To opt-in to the future behavior, set `pd.set_option('future.no_silent_downcasting', True)`\n",
      "  data['Total Charges'].replace(' ', 0, inplace=True)\n"
     ]
    }
   ],
   "source": [
    "# Rewrite missing ' ' as 0\n",
    "data['Total Charges'].replace(' ', 0, inplace=True)"
   ]
  },
  {
   "cell_type": "code",
   "execution_count": 20,
   "id": "1717dd66-d404-43fe-be50-238d7655e815",
   "metadata": {},
   "outputs": [],
   "source": [
    "# Prepare as float\n",
    "data['Total Charges'] = data['Total Charges'].astype(float)"
   ]
  },
  {
   "cell_type": "markdown",
   "id": "7724eafe-d15e-4d53-8bcc-82797bad7d36",
   "metadata": {},
   "source": [
    "### **Train-Test Split**"
   ]
  },
  {
   "cell_type": "code",
   "execution_count": 22,
   "id": "5acea939-98a2-4ae3-946c-54933f68c6b0",
   "metadata": {},
   "outputs": [],
   "source": [
    "feature_cols = list(data.columns)\n",
    "feature_cols.remove('Churn Value')\n",
    "\n",
    "X = data[feature_cols]\n",
    "y = data['Churn Value']\n",
    "\n",
    "X_train, X_test, y_train, y_test = train_test_split(X, y, test_size = 0.2, random_state = 42)"
   ]
  },
  {
   "cell_type": "code",
   "execution_count": 23,
   "id": "0f1f284e-93de-48a5-a4d4-c32983425b8c",
   "metadata": {},
   "outputs": [
    {
     "data": {
      "text/plain": [
       "0"
      ]
     },
     "execution_count": 23,
     "metadata": {},
     "output_type": "execute_result"
    }
   ],
   "source": [
    "# Check indexes line up\n",
    "(X_train.index != y_train.index).sum()"
   ]
  },
  {
   "cell_type": "markdown",
   "id": "7567a1cf-0ad9-429e-ba0b-aa7a36173dbf",
   "metadata": {},
   "source": [
    "### **Visualisations**"
   ]
  },
  {
   "cell_type": "markdown",
   "id": "250e858c-21ad-4dd3-8f2c-96fbc7144e5a",
   "metadata": {},
   "source": [
    "**Churn by Senior Citizen, Partner, and Dependents**\n",
    "\n",
    "This visualisation explores how churn relates to:\n",
    "- Whether the customer is a **Senior Citizen**\n",
    "- Whether they have a **Partner**\n",
    "- Whether they have **Dependents**\n",
    "\n",
    "Understanding these relationships can inform targeted retention strategies for specific customer groups.\n"
   ]
  },
  {
   "cell_type": "markdown",
   "id": "0a00ed45-cd49-4785-ac96-92fb7da91b73",
   "metadata": {},
   "source": [
    "* **Churn by Senior Citizen, Partner, and Dependents**\n",
    "\n",
    "This visualisation explores how churn relates to:\n",
    "- Whether the customer is a **Senior Citizen**\n",
    "- Whether they have a **Partner**\n",
    "- Whether they have **Dependents**\n",
    "\n",
    "Understanding these relationships can inform targeted retention strategies for specific customer groups.\n"
   ]
  },
  {
   "cell_type": "code",
   "execution_count": 27,
   "id": "7e8ea19a-1110-4c92-8b26-2bdb1dc7bef1",
   "metadata": {},
   "outputs": [
    {
     "data": {
      "image/png": "[encoded data removed]",
      "text/plain": [
       "<Figure size 640x480 with 3 Axes>"
      ]
     },
     "metadata": {},
     "output_type": "display_data"
    }
   ],
   "source": [
    "colors = ['#7593A0', '#224955']\n",
    "edges = ['#132C31']\n",
    "\n",
    "sns.set_context('paper')\n",
    "\n",
    "#plt.subplot(3,1,1)\n",
    "#sns.countplot(data = swan[swan['Churn Value']==1], x = 'Gender',\n",
    "   #          hue = 'Gender',\n",
    "    #         palette = colors,\n",
    "    #         linewidth=1.3,\n",
    "     #        edgecolor = edges)\n",
    "\n",
    "plt.subplot(1,3,1)\n",
    "sns.countplot(data = swan[swan['Churn Value']==1], x = 'Senior Citizen',\n",
    "             hue = 'Senior Citizen',\n",
    "             palette = colors,\n",
    "             linewidth=1.3,\n",
    "             edgecolor = edges)\n",
    "\n",
    "plt.subplot(1,3,2)\n",
    "sns.countplot(data = swan[swan['Churn Value']==1], x = 'Partner',\n",
    "             hue = 'Partner',\n",
    "             palette = colors,\n",
    "             linewidth=1.3,\n",
    "             edgecolor = edges)\n",
    "\n",
    "plt.subplot(1,3,3)\n",
    "sns.countplot(data = swan[swan['Churn Value']==1], x = 'Dependents',\n",
    "             hue = 'Dependents',\n",
    "             palette = colors,\n",
    "             linewidth=1.3,\n",
    "             edgecolor = edges)\n",
    "\n",
    "\n",
    "\n",
    "plt.tight_layout()\n",
    "\n",
    "plt.savefig('Demo2.jpg')\n"
   ]
  },
  {
   "cell_type": "markdown",
   "id": "42da6973-c3ad-4de8-973d-48b7c379fc2e",
   "metadata": {},
   "source": [
    "* **Churn by Phone Service Type**\n",
    "\n",
    "This stacked bar chart shows the number of customers who **churned** or **stayed**, segmented by their **Phone Service type**. \n",
    "\n",
    "Each segment is annotated with the actual count to make the chart easier to interpret."
   ]
  },
  {
   "cell_type": "code",
   "execution_count": 29,
   "id": "ad902723-1bbf-4e29-aff0-85ac0ff03903",
   "metadata": {},
   "outputs": [
    {
     "data": {
      "text/html": [
       "<div>\n",
       "<style scoped>\n",
       "    .dataframe tbody tr th:only-of-type {\n",
       "        vertical-align: middle;\n",
       "    }\n",
       "\n",
       "    .dataframe tbody tr th {\n",
       "        vertical-align: top;\n",
       "    }\n",
       "\n",
       "    .dataframe thead th {\n",
       "        text-align: right;\n",
       "    }\n",
       "</style>\n",
       "<table border=\"1\" class=\"dataframe\">\n",
       "  <thead>\n",
       "    <tr style=\"text-align: right;\">\n",
       "      <th></th>\n",
       "      <th>Phone Services</th>\n",
       "      <th>Churned</th>\n",
       "      <th>Stayed</th>\n",
       "    </tr>\n",
       "  </thead>\n",
       "  <tbody>\n",
       "    <tr>\n",
       "      <th>0</th>\n",
       "      <td>No Phone Service</td>\n",
       "      <td>170</td>\n",
       "      <td>512</td>\n",
       "    </tr>\n",
       "    <tr>\n",
       "      <th>1</th>\n",
       "      <td>Single Line</td>\n",
       "      <td>849</td>\n",
       "      <td>2541</td>\n",
       "    </tr>\n",
       "    <tr>\n",
       "      <th>2</th>\n",
       "      <td>Multiple Lines</td>\n",
       "      <td>850</td>\n",
       "      <td>2121</td>\n",
       "    </tr>\n",
       "  </tbody>\n",
       "</table>\n",
       "</div>"
      ],
      "text/plain": [
       "     Phone Services  Churned  Stayed\n",
       "0  No Phone Service      170     512\n",
       "1       Single Line      849    2541\n",
       "2    Multiple Lines      850    2121"
      ]
     },
     "execution_count": 29,
     "metadata": {},
     "output_type": "execute_result"
    }
   ],
   "source": [
    "phone_df = pd.DataFrame({'Phone Services':['No Phone Service','Single Line','Multiple Lines'],\n",
    "                         'Churned':[len(swan[(swan['Multiple Lines']=='No phone service')&(swan['Churn Value']==1)]),\n",
    "                                     len(swan[(swan['Multiple Lines']=='No')&(swan['Churn Value']==1)]),\n",
    "                                     len(swan[(swan['Multiple Lines']=='Yes')&(swan['Churn Value']==1)])],\n",
    "                         'Stayed':[len(swan[(swan['Multiple Lines']=='No phone service')&(swan['Churn Value']==0)]),\n",
    "                                     len(swan[(swan['Multiple Lines']=='No')&(swan['Churn Value']==0)]),\n",
    "                                     len(swan[(swan['Multiple Lines']=='Yes')&(swan['Churn Value']==0)])]})\n",
    "phone_df"
   ]
  },
  {
   "cell_type": "code",
   "execution_count": 30,
   "id": "4d15948c-9c60-4024-b624-2d15bcd8af6b",
   "metadata": {},
   "outputs": [
    {
     "data": {
      "image/png": "[encoded data removed]",
      "text/plain": [
       "<Figure size 800x600 with 1 Axes>"
      ]
     },
     "metadata": {},
     "output_type": "display_data"
    },
    {
     "data": {
      "text/plain": [
       "<Figure size 640x480 with 0 Axes>"
      ]
     },
     "metadata": {},
     "output_type": "display_data"
    }
   ],
   "source": [
    "import pandas as pd\n",
    "import matplotlib.pyplot as plt\n",
    "import seaborn as sns\n",
    "\n",
    "colors = ['#224955', '#95A6BA']\n",
    "edges = ['#132C31']\n",
    "\n",
    "sns.set_context('paper')\n",
    "\n",
    "# Plot\n",
    "ax = phone_df.set_index('Phone Services').plot(kind='bar',\n",
    "                                               stacked=True,\n",
    "                                               color=colors,\n",
    "                                               linewidth=1.3,\n",
    "                                               edgecolor=edges,\n",
    "                                               figsize=(8,6))\n",
    "\n",
    "plt.xticks(rotation=0)\n",
    "plt.title('Churn by Phone Service Type')\n",
    "plt.ylabel('Number of Customers')\n",
    "\n",
    "# Annotate with total counts on top of bars\n",
    "for p in ax.patches:\n",
    "    width, height = p.get_width(), p.get_height()\n",
    "    x, y = p.get_xy() \n",
    "    if height > 0:\n",
    "        ax.annotate(f'{int(height)}', \n",
    "                    (x + width/2, y + height/2),\n",
    "                    ha='center', va='center', color='white', fontsize=10)\n",
    "\n",
    "plt.tight_layout()\n",
    "plt.savefig('Phone_Services_annotated.jpg')\n",
    "plt.show()\n",
    "\n",
    "plt.savefig('phone_type.jpg')"
   ]
  },
  {
   "cell_type": "markdown",
   "id": "f9d5722c-5949-407c-9ff3-ec97e9ef72c1",
   "metadata": {},
   "source": [
    "* **Churn by Contract Type**\n",
    "\n",
    "This visualisation shows how churn varies by the **type of contract** customers have:\n",
    "- **Month-to-month**\n",
    "- **One year**\n",
    "- **Two year**\n",
    "\n",
    "It also includes **counts directly on the bars** for better readability.\n"
   ]
  },
  {
   "cell_type": "code",
   "execution_count": 32,
   "id": "70e0cf58-8a94-484f-8139-7327f1606a1e",
   "metadata": {},
   "outputs": [
    {
     "data": {
      "image/png": "[encoded data removed]",
      "text/plain": [
       "<Figure size 800x600 with 1 Axes>"
      ]
     },
     "metadata": {},
     "output_type": "display_data"
    }
   ],
   "source": [
    "colors = ['#224955', '#95A6BA']\n",
    "edges = '#132C31'\n",
    "\n",
    "plt.figure(figsize=(8,6))\n",
    "\n",
    "ax = sns.countplot(data=swan, \n",
    "                   x='Contract', \n",
    "                   hue='Churn Value', \n",
    "                   palette=colors,\n",
    "                   linewidth=1.3,\n",
    "                   edgecolor=edges)\n",
    "\n",
    "plt.title('Churn by Contract Type')\n",
    "plt.xlabel('Contract Type')\n",
    "plt.ylabel('Number of Customers')\n",
    "plt.legend(title='Churn Status')\n",
    "\n",
    "# Annotate each bar with count\n",
    "for p in ax.patches:\n",
    "    height = p.get_height()\n",
    "    ax.annotate(f'{height}', \n",
    "                (p.get_x() + p.get_width() / 2., height), \n",
    "                ha='center', va='center', \n",
    "                xytext=(0, 6), \n",
    "                textcoords='offset points', \n",
    "                fontsize=9, color='black')\n",
    "\n",
    "plt.tight_layout()\n",
    "plt.show()\n"
   ]
  },
  {
   "cell_type": "markdown",
   "id": "beb18e33-7ea1-43cb-a813-2588f08be3b7",
   "metadata": {},
   "source": [
    "* **Tenure Distribution by Churn Status**\n",
    "\n",
    "This boxplot shows the **distribution of tenure (number of months a customer has stayed)**, split by churn status.\n",
    "\n",
    "It helps identify whether **customers with shorter tenure are more likely to churn**."
   ]
  },
  {
   "cell_type": "code",
   "execution_count": 34,
   "id": "2d588c77-b37d-4a9a-a82a-cb67a321e0f1",
   "metadata": {},
   "outputs": [
    {
     "name": "stderr",
     "output_type": "stream",
     "text": [
      "/var/folders/gk/0ym9h57d05v80m40rlpbz2bm0000gq/T/ipykernel_69774/1887455478.py:3: FutureWarning: \n",
      "\n",
      "Passing `palette` without assigning `hue` is deprecated and will be removed in v0.14.0. Assign the `x` variable to `hue` and set `legend=False` for the same effect.\n",
      "\n",
      "  ax = sns.boxplot(data=swan, x='Churn Value', y='Tenure Months', palette=colors)\n"
     ]
    },
    {
     "data": {
      "image/png": "[encoded data removed]",
      "text/plain": [
       "<Figure size 800x600 with 1 Axes>"
      ]
     },
     "metadata": {},
     "output_type": "display_data"
    }
   ],
   "source": [
    "plt.figure(figsize=(8,6))\n",
    "colors = ['#95A6BA', '#224955' ]\n",
    "ax = sns.boxplot(data=swan, x='Churn Value', y='Tenure Months', palette=colors)\n",
    "\n",
    "# Calculate mean tenure per churn label\n",
    "means = swan.groupby('Churn Value')['Tenure Months'].mean()\n",
    "\n",
    "# Plot mean markers and annotate on each box\n",
    "for i, mean in enumerate(means):\n",
    "    ax.scatter(i, mean, color='red', marker='D', s=40, label='Mean' if i == 0 else \"\")\n",
    "    ax.text(i, mean, f'Mean: {mean:.1f}', \n",
    "            horizontalalignment='center', \n",
    "            verticalalignment='bottom', \n",
    "            color='white', fontsize=9, weight='bold',\n",
    "            bbox=dict(facecolor='black', alpha=0.5, boxstyle='round,pad=0.3'))\n",
    "\n",
    "plt.title('Customer Tenure Distribution by Churn Status')\n",
    "plt.xlabel('Churn Status')\n",
    "plt.ylabel('Tenure (Months)')\n",
    "plt.grid(axis='y', linestyle='--', alpha=0.7)\n",
    "plt.tight_layout()\n",
    "\n",
    "plt.savefig('tenure dist.jpg')"
   ]
  },
  {
   "cell_type": "markdown",
   "id": "91556520-75ca-4510-9266-717b5108a7c3",
   "metadata": {},
   "source": [
    ">  **Insight Box**\n",
    ">\n",
    "> The boxplot above shows the **tenure distribution** (in months) between customers who **churned** (`Churn Label = Yes`) and those who **stayed** (`Churn Label = No`).\n",
    ">\n",
    "> - **Churned customers**: Have a **mean tenure of ~18 months**. This means on average, customers who leave tend to leave within the first 1 to 1.5 years.\n",
    "> - **Retained customers**: Have a **mean tenure of ~38 months**, showing that longer-tenured customers are more likely to stay.\n",
    ">\n",
    ">  **Key takeaway**:  \n",
    "> Customers with a **shorter tenure are more likely to churn**, which makes **tenure months a critical feature** in predicting churn.  \n",
    "> Retention strategies should focus on customers **early in their lifecycle (under 20 months)** to prevent churn.\n"
   ]
  },
  {
   "cell_type": "markdown",
   "id": "beb158ce-7842-4d20-b00d-1af6a1df8cb0",
   "metadata": {},
   "source": [
    "*  **Monthly Charges by Churn Status**\n",
    "\n",
    "This visualisation compares the **Monthly Charges** paid by customers who churned versus those who stayed.\n",
    "\n",
    "This helps us see if **higher or lower bills correlate with churn**."
   ]
  },
  {
   "cell_type": "code",
   "execution_count": 37,
   "id": "551b4e59-95a1-41f6-ba63-2ae37f212915",
   "metadata": {},
   "outputs": [
    {
     "name": "stderr",
     "output_type": "stream",
     "text": [
      "/var/folders/gk/0ym9h57d05v80m40rlpbz2bm0000gq/T/ipykernel_69774/963443155.py:3: FutureWarning: \n",
      "\n",
      "Passing `palette` without assigning `hue` is deprecated and will be removed in v0.14.0. Assign the `x` variable to `hue` and set `legend=False` for the same effect.\n",
      "\n",
      "  ax = sns.boxplot(data=swan, x='Churn Value', y='Monthly Charges', palette=colors)\n"
     ]
    },
    {
     "data": {
      "image/png": "[encoded data removed]",
      "text/plain": [
       "<Figure size 800x600 with 1 Axes>"
      ]
     },
     "metadata": {},
     "output_type": "display_data"
    }
   ],
   "source": [
    "plt.figure(figsize=(8,6))\n",
    "colors = ['#95A6BA', '#224955' ]\n",
    "ax = sns.boxplot(data=swan, x='Churn Value', y='Monthly Charges', palette=colors)\n",
    "\n",
    "means = swan.groupby('Churn Value')['Monthly Charges'].mean()\n",
    "\n",
    "for i, mean in enumerate(means):\n",
    "    ax.scatter(i, mean, color='red', marker='D', s=40, label='Mean' if i == 0 else \"\")\n",
    "    ax.text(i, mean, f'Mean: {mean:.1f}', ha='center', va='bottom', color='white', fontsize=9,\n",
    "            bbox=dict(facecolor='black', alpha=0.5, boxstyle='round,pad=0.3'))\n",
    "\n",
    "plt.title('Monthly Charges by Churn Status')\n",
    "plt.xlabel('Churn Status')\n",
    "plt.ylabel('Monthly Charges ($)')\n",
    "plt.grid(axis='y', linestyle='--', alpha=0.7)\n",
    "plt.tight_layout()\n",
    "\n",
    "plt.savefig('monthly charges dist.jpg')"
   ]
  },
  {
   "cell_type": "markdown",
   "id": "730c9fdf-60d4-4290-9397-e6d841806b5d",
   "metadata": {},
   "source": [
    "* **Churn by Payment Method**\n",
    "\n",
    "This visualisation explores the relationship between **Payment Method** and churn status.  \n",
    "Certain payment types may be linked to higher or lower churn rates.\n"
   ]
  },
  {
   "cell_type": "code",
   "execution_count": 39,
   "id": "ad357f4e-81ee-44aa-a268-ff22da44e6ef",
   "metadata": {},
   "outputs": [
    {
     "data": {
      "image/png": "[encoded data removed]",
      "text/plain": [
       "<Figure size 1000x600 with 1 Axes>"
      ]
     },
     "metadata": {},
     "output_type": "display_data"
    }
   ],
   "source": [
    "plt.figure(figsize=(10,6))\n",
    "\n",
    "ax = sns.countplot(data=swan, x='Payment Method', hue='Churn Value', palette=colors)\n",
    "\n",
    "plt.title('Churn by Payment Method')\n",
    "plt.xlabel('Payment Method')\n",
    "plt.ylabel('Number of Customers')\n",
    "plt.xticks(rotation=30)\n",
    "plt.legend(title='Churn Status')\n",
    "\n",
    "# Annotate counts on bars\n",
    "for p in ax.patches:\n",
    "    height = p.get_height()\n",
    "    ax.annotate(f'{height}', \n",
    "                (p.get_x() + p.get_width()/2., height),\n",
    "                ha='center', va='center',\n",
    "                xytext=(0, 5),\n",
    "                textcoords='offset points',\n",
    "                fontsize=8)\n",
    "\n",
    "plt.tight_layout()\n",
    "plt.show()\n"
   ]
  },
  {
   "cell_type": "markdown",
   "id": "a93c4259-1ef7-4971-8f67-ea4143c1b935",
   "metadata": {},
   "source": [
    "* **Churn by Internet Service Type**\n",
    "\n",
    "This visualisation examines the relationship between the type of internet service (DSL, Fiber Optic, None) and churn status."
   ]
  },
  {
   "cell_type": "code",
   "execution_count": 41,
   "id": "886beb86-1e41-40b7-b7bf-260a46536892",
   "metadata": {},
   "outputs": [
    {
     "data": {
      "image/png": "[encoded data removed]",
      "text/plain": [
       "<Figure size 800x600 with 1 Axes>"
      ]
     },
     "metadata": {},
     "output_type": "display_data"
    }
   ],
   "source": [
    "plt.figure(figsize=(8,6))\n",
    "\n",
    "ax = sns.countplot(data=swan, x='Internet Service', hue='Churn Value', palette=colors)\n",
    "\n",
    "plt.title('Churn by Internet Service Type')\n",
    "plt.xlabel('Internet Service Type')\n",
    "plt.ylabel('Number of Customers')\n",
    "plt.legend(title='Churn Status')\n",
    "\n",
    "plt.tight_layout()\n",
    "plt.show()"
   ]
  },
  {
   "cell_type": "markdown",
   "id": "e96accb0-af87-47da-aa39-869b7b3e6d85",
   "metadata": {},
   "source": [
    " **Total Charges by Churn Status**\n",
    "\n",
    "This boxplot shows the **Total Charges** (the total amount paid by the customer so far) split by churn status.\n",
    "\n",
    "It helps us understand if **total spend over time** has any relationship with a customer leaving or staying.\n"
   ]
  },
  {
   "cell_type": "code",
   "execution_count": 43,
   "id": "e563d492-69f3-4abb-8cea-d3217ca0aab7",
   "metadata": {},
   "outputs": [
    {
     "name": "stderr",
     "output_type": "stream",
     "text": [
      "/var/folders/gk/0ym9h57d05v80m40rlpbz2bm0000gq/T/ipykernel_69774/1324057102.py:1: FutureWarning: A value is trying to be set on a copy of a DataFrame or Series through chained assignment using an inplace method.\n",
      "The behavior will change in pandas 3.0. This inplace method will never work because the intermediate object on which we are setting values always behaves as a copy.\n",
      "\n",
      "For example, when doing 'df[col].method(value, inplace=True)', try using 'df.method({col: value}, inplace=True)' or df[col] = df[col].method(value) instead, to perform the operation inplace on the original object.\n",
      "\n",
      "\n",
      "  swan['Total Charges'].replace(' ', 0, inplace=True)\n",
      "/var/folders/gk/0ym9h57d05v80m40rlpbz2bm0000gq/T/ipykernel_69774/1324057102.py:1: FutureWarning: Downcasting behavior in `replace` is deprecated and will be removed in a future version. To retain the old behavior, explicitly call `result.infer_objects(copy=False)`. To opt-in to the future behavior, set `pd.set_option('future.no_silent_downcasting', True)`\n",
      "  swan['Total Charges'].replace(' ', 0, inplace=True)\n",
      "/var/folders/gk/0ym9h57d05v80m40rlpbz2bm0000gq/T/ipykernel_69774/1324057102.py:8: FutureWarning: \n",
      "\n",
      "Passing `palette` without assigning `hue` is deprecated and will be removed in v0.14.0. Assign the `x` variable to `hue` and set `legend=False` for the same effect.\n",
      "\n",
      "  ax = sns.boxplot(data=swan, x='Churn Value', y='Total Charges', palette=colors)\n"
     ]
    },
    {
     "data": {
      "image/png": "[encoded data removed]",
      "text/plain": [
       "<Figure size 800x600 with 1 Axes>"
      ]
     },
     "metadata": {},
     "output_type": "display_data"
    }
   ],
   "source": [
    "swan['Total Charges'].replace(' ', 0, inplace=True)\n",
    "\n",
    "# Define color palette\n",
    "colors = ['#95A6BA', '#224955' ]\n",
    "\n",
    "plt.figure(figsize=(8,6))\n",
    "\n",
    "ax = sns.boxplot(data=swan, x='Churn Value', y='Total Charges', palette=colors)\n",
    "\n",
    "# Calculate mean total charges per churn label\n",
    "means = swan.groupby('Churn Value')['Total Charges'].mean()\n",
    "\n",
    "for i, mean in enumerate(means):\n",
    "    ax.scatter(i, mean, color='red', marker='D', s=40, label='Mean' if i == 0 else \"\")\n",
    "    ax.text(i, mean, f'Mean: {mean:.1f}', ha='center', va='bottom', color='white', fontsize=9,\n",
    "            bbox=dict(facecolor='black', alpha=0.5, boxstyle='round,pad=0.3'))\n",
    "\n",
    "plt.title('Total Charges by Churn Status')\n",
    "plt.xlabel('Churn Status')\n",
    "plt.ylabel('Total Charges ($)')\n",
    "plt.grid(axis='y', linestyle='--', alpha=0.7)\n",
    "plt.tight_layout()\n",
    "\n",
    "plt.savefig('totalcharges dist.jpg')"
   ]
  },
  {
   "cell_type": "markdown",
   "id": "0eb6ab6c-3ebe-4293-93ca-b595d09cb8ac",
   "metadata": {},
   "source": [
    "* **Correlation Heatmap of Numerical Features**\n",
    "\n",
    "This heatmap shows the **correlation between numerical features** such as:\n",
    "- Tenure Months\n",
    "- Monthly Charges\n",
    "- Total Charges\n",
    "- Churn Value (encoded as 0 or 1)\n",
    "\n",
    "This helps understand which variables are most related to churn and to each other.\n"
   ]
  },
  {
   "cell_type": "code",
   "execution_count": 45,
   "id": "4b6fd7fe-fa8d-477d-b1ac-996babb2df05",
   "metadata": {},
   "outputs": [
    {
     "data": {
      "image/png": "[encoded data removed]",
      "text/plain": [
       "<Figure size 800x600 with 2 Axes>"
      ]
     },
     "metadata": {},
     "output_type": "display_data"
    }
   ],
   "source": [
    "plt.figure(figsize=(8,6))\n",
    "\n",
    "numerical_cols = ['Tenure Months', 'Monthly Charges', 'Total Charges', 'Churn Value']\n",
    "corr = swan[numerical_cols].corr()\n",
    "\n",
    "sns.heatmap(corr, annot=True, cmap='coolwarm', fmt='.2f')\n",
    "\n",
    "plt.title('Correlation Heatmap of Numerical Features')\n",
    "plt.tight_layout()\n",
    "plt.show()"
   ]
  },
  {
   "cell_type": "markdown",
   "id": "4c226226-7c5a-4cdd-a14e-a8391bf34151",
   "metadata": {},
   "source": [
    "**Churn Rate by Contract Type and Payment Method**\n",
    "\n",
    "This visualisation shows the churn rate for **each combination of Contract Type and Payment Method**.  \n",
    "It helps spot high churn risk groups based on how they pay and their contract length."
   ]
  },
  {
   "cell_type": "code",
   "execution_count": 47,
   "id": "81c4d0ce-1a03-44ac-8238-949e678437ae",
   "metadata": {},
   "outputs": [
    {
     "data": {
      "image/png": "[encoded data removed]",
      "text/plain": [
       "<Figure size 1400x700 with 1 Axes>"
      ]
     },
     "metadata": {},
     "output_type": "display_data"
    }
   ],
   "source": [
    "plt.figure(figsize=(14,7))\n",
    "\n",
    "ax = sns.countplot(data=swan, x='Contract', hue='Payment Method', palette='Set2', hue_order=swan['Payment Method'].unique())\n",
    "\n",
    "plt.title('Payment Method Distribution across Contract Types')\n",
    "plt.xlabel('Contract Type')\n",
    "plt.ylabel('Number of Customers')\n",
    "plt.xticks(rotation=0)\n",
    "plt.legend(title='Payment Method', bbox_to_anchor=(1.05, 1), loc='upper left')\n",
    "\n",
    "plt.tight_layout()\n",
    "plt.show()"
   ]
  },
  {
   "cell_type": "markdown",
   "id": "04cf9ce8-373a-46e6-9da6-2b57b0841581",
   "metadata": {
    "jp-MarkdownHeadingCollapsed": true
   },
   "source": [
    "## <u>**Feature Engineering**<u>"
   ]
  },
  {
   "cell_type": "markdown",
   "id": "688d32b3-5c74-44da-8e03-a768f3e07301",
   "metadata": {},
   "source": [
    "* Drop from Feature List: `CustomerID`,`Count`,`Country`,`State`,`City`,`Zip Code`,`Lat Long`,`Churn Reason`\n",
    "> Not important or redundant \n",
    "* Boolean Label Encode: `Gender`,`Senior Citizen`,`Partner`,`Dependents`,`Phone Service`,`Paperless Billing`,`Multiple Lines`,`Online Security`,`Online Backup`,`Device Protection`,`Tech Support`,`Streaming TV`,`Streaming Movies`\n",
    "* Order Label Encode: `Contract` **<--** **OHE works better**\n",
    "* One-Hot Encode: `Internet Service`,`Payment Method`,**`Contract`**\n",
    "* Feature Scaling: Max-Min Scale every feature\n",
    "* Feature Selection: Select Features **correlated** with the target using `.corr()`. Drop features where **multicolinearity** using a user-defined VIF function `calculate_vif`."
   ]
  },
  {
   "cell_type": "markdown",
   "id": "249167a3-8ab6-40c1-b136-bc557e72cbac",
   "metadata": {
    "jp-MarkdownHeadingCollapsed": true
   },
   "source": [
    "### **General Feature Engineering**"
   ]
  },
  {
   "cell_type": "code",
   "execution_count": 51,
   "id": "7f76d7ae-6df0-4c92-a43d-9214c11d19dd",
   "metadata": {},
   "outputs": [],
   "source": [
    "def bool_labeling(df, col_name):\n",
    "    df = df.copy()\n",
    "    col = df[col_name].replace({r'^No.*':0,'Yes':1,0:0,1:1}, regex=True)\n",
    "    return col"
   ]
  },
  {
   "cell_type": "code",
   "execution_count": 52,
   "id": "2c5e7d43-5286-4ec0-9675-91834e4a8f80",
   "metadata": {},
   "outputs": [],
   "source": [
    "def gender_bool_labeling(df, col_name):\n",
    "    df = df.copy()\n",
    "    col = df[col_name].replace({'Male':0,'Female':1,0:0,1:1})\n",
    "    return col"
   ]
  },
  {
   "cell_type": "code",
   "execution_count": 53,
   "id": "dc3155bb-16fd-49c8-8370-a23bd90f4c5b",
   "metadata": {},
   "outputs": [],
   "source": [
    "def contract_labeling(df, col_name):\n",
    "    df=df.copy()\n",
    "    col = df[col_name].replace({'One year':12,'Month-to-month':1,'Two year':24})\n",
    "    return col"
   ]
  },
  {
   "cell_type": "code",
   "execution_count": 54,
   "id": "1d48748d-082b-42c8-8bf3-aeb89d3bc646",
   "metadata": {},
   "outputs": [],
   "source": [
    "def ohe(df, col_name):\n",
    "    df=df.copy()\n",
    "    df=pd.get_dummies(df, columns = [f'{col_name}'], prefix = f'{col_name}', drop_first = True, dtype='int')\n",
    "    return df"
   ]
  },
  {
   "cell_type": "code",
   "execution_count": 55,
   "id": "be863ef9-c6af-4949-a3bd-2403ad0a8bc4",
   "metadata": {},
   "outputs": [],
   "source": [
    "def feature_engineering(df):\n",
    "    df=df.copy()\n",
    "\n",
    "    df = sm.add_constant(df)\n",
    "    \n",
    "    df.drop(columns=['Count','Country','State','City','Zip Code','Lat Long','Churn Reason'],inplace = True)\n",
    "\n",
    "    for col_name in ['Senior Citizen','Partner','Dependents','Phone Service','Paperless Billing','Multiple Lines',\n",
    "                     'Online Security','Online Backup','Device Protection','Tech Support','Streaming TV',\n",
    "                     'Streaming Movies']:\n",
    "        df[col_name] = bool_labeling(df, col_name)\n",
    "\n",
    "    df['Gender'] = gender_bool_labeling(df, 'Gender')\n",
    "    \n",
    "    df = ohe(df,'Internet Service')\n",
    "    df = ohe(df,'Payment Method')\n",
    "    df = ohe(df,'Contract')\n",
    "    \n",
    "    return df"
   ]
  },
  {
   "cell_type": "code",
   "execution_count": 56,
   "id": "61b9911e-6475-431a-9b95-011c8450fa99",
   "metadata": {},
   "outputs": [
    {
     "name": "stderr",
     "output_type": "stream",
     "text": [
      "/var/folders/gk/0ym9h57d05v80m40rlpbz2bm0000gq/T/ipykernel_69774/2918864045.py:3: FutureWarning: Downcasting behavior in `replace` is deprecated and will be removed in a future version. To retain the old behavior, explicitly call `result.infer_objects(copy=False)`. To opt-in to the future behavior, set `pd.set_option('future.no_silent_downcasting', True)`\n",
      "  col = df[col_name].replace({r'^No.*':0,'Yes':1,0:0,1:1}, regex=True)\n"
     ]
    }
   ],
   "source": [
    "X_train_fe = feature_engineering(X_train)"
   ]
  },
  {
   "cell_type": "code",
   "execution_count": 57,
   "id": "1c5d3512-b0c0-4602-8bbf-92eed28dd05e",
   "metadata": {},
   "outputs": [
    {
     "name": "stderr",
     "output_type": "stream",
     "text": [
      "/var/folders/gk/0ym9h57d05v80m40rlpbz2bm0000gq/T/ipykernel_69774/2918864045.py:3: FutureWarning: Downcasting behavior in `replace` is deprecated and will be removed in a future version. To retain the old behavior, explicitly call `result.infer_objects(copy=False)`. To opt-in to the future behavior, set `pd.set_option('future.no_silent_downcasting', True)`\n",
      "  col = df[col_name].replace({r'^No.*':0,'Yes':1,0:0,1:1}, regex=True)\n"
     ]
    }
   ],
   "source": [
    "X_test_fe = feature_engineering(X_test)"
   ]
  },
  {
   "cell_type": "markdown",
   "id": "69818924-9c4d-41a6-90f3-da189819ba26",
   "metadata": {
    "jp-MarkdownHeadingCollapsed": true
   },
   "source": [
    "### **Scaling** `train_minmax`"
   ]
  },
  {
   "cell_type": "code",
   "execution_count": 59,
   "id": "830e2808-6ba1-429c-82a6-9a5bca06df60",
   "metadata": {},
   "outputs": [
    {
     "data": {
      "text/html": [
       "<style>#sk-container-id-1 {\n",
       "  /* Definition of color scheme common for light and dark mode */\n",
       "  --sklearn-color-text: black;\n",
       "  --sklearn-color-line: gray;\n",
       "  /* Definition of color scheme for unfitted estimators */\n",
       "  --sklearn-color-unfitted-level-0: #fff5e6;\n",
       "  --sklearn-color-unfitted-level-1: #f6e4d2;\n",
       "  --sklearn-color-unfitted-level-2: #ffe0b3;\n",
       "  --sklearn-color-unfitted-level-3: chocolate;\n",
       "  /* Definition of color scheme for fitted estimators */\n",
       "  --sklearn-color-fitted-level-0: #f0f8ff;\n",
       "  --sklearn-color-fitted-level-1: #d4ebff;\n",
       "  --sklearn-color-fitted-level-2: #b3dbfd;\n",
       "  --sklearn-color-fitted-level-3: cornflowerblue;\n",
       "\n",
       "  /* Specific color for light theme */\n",
       "  --sklearn-color-text-on-default-background: var(--sg-text-color, var(--theme-code-foreground, var(--jp-content-font-color1, black)));\n",
       "  --sklearn-color-background: var(--sg-background-color, var(--theme-background, var(--jp-layout-color0, white)));\n",
       "  --sklearn-color-border-box: var(--sg-text-color, var(--theme-code-foreground, var(--jp-content-font-color1, black)));\n",
       "  --sklearn-color-icon: #696969;\n",
       "\n",
       "  @media (prefers-color-scheme: dark) {\n",
       "    /* Redefinition of color scheme for dark theme */\n",
       "    --sklearn-color-text-on-default-background: var(--sg-text-color, var(--theme-code-foreground, var(--jp-content-font-color1, white)));\n",
       "    --sklearn-color-background: var(--sg-background-color, var(--theme-background, var(--jp-layout-color0, #111)));\n",
       "    --sklearn-color-border-box: var(--sg-text-color, var(--theme-code-foreground, var(--jp-content-font-color1, white)));\n",
       "    --sklearn-color-icon: #878787;\n",
       "  }\n",
       "}\n",
       "\n",
       "#sk-container-id-1 {\n",
       "  color: var(--sklearn-color-text);\n",
       "}\n",
       "\n",
       "#sk-container-id-1 pre {\n",
       "  padding: 0;\n",
       "}\n",
       "\n",
       "#sk-container-id-1 input.sk-hidden--visually {\n",
       "  border: 0;\n",
       "  clip: rect(1px 1px 1px 1px);\n",
       "  clip: rect(1px, 1px, 1px, 1px);\n",
       "  height: 1px;\n",
       "  margin: -1px;\n",
       "  overflow: hidden;\n",
       "  padding: 0;\n",
       "  position: absolute;\n",
       "  width: 1px;\n",
       "}\n",
       "\n",
       "#sk-container-id-1 div.sk-dashed-wrapped {\n",
       "  border: 1px dashed var(--sklearn-color-line);\n",
       "  margin: 0 0.4em 0.5em 0.4em;\n",
       "  box-sizing: border-box;\n",
       "  padding-bottom: 0.4em;\n",
       "  background-color: var(--sklearn-color-background);\n",
       "}\n",
       "\n",
       "#sk-container-id-1 div.sk-container {\n",
       "  /* jupyter's `normalize.less` sets `[hidden] { display: none; }`\n",
       "     but bootstrap.min.css set `[hidden] { display: none !important; }`\n",
       "     so we also need the `!important` here to be able to override the\n",
       "     default hidden behavior on the sphinx rendered scikit-learn.org.\n",
       "     See: https://github.com/scikit-learn/scikit-learn/issues/21755 */\n",
       "  display: inline-block !important;\n",
       "  position: relative;\n",
       "}\n",
       "\n",
       "#sk-container-id-1 div.sk-text-repr-fallback {\n",
       "  display: none;\n",
       "}\n",
       "\n",
       "div.sk-parallel-item,\n",
       "div.sk-serial,\n",
       "div.sk-item {\n",
       "  /* draw centered vertical line to link estimators */\n",
       "  background-image: linear-gradient(var(--sklearn-color-text-on-default-background), var(--sklearn-color-text-on-default-background));\n",
       "  background-size: 2px 100%;\n",
       "  background-repeat: no-repeat;\n",
       "  background-position: center center;\n",
       "}\n",
       "\n",
       "/* Parallel-specific style estimator block */\n",
       "\n",
       "#sk-container-id-1 div.sk-parallel-item::after {\n",
       "  content: \"\";\n",
       "  width: 100%;\n",
       "  border-bottom: 2px solid var(--sklearn-color-text-on-default-background);\n",
       "  flex-grow: 1;\n",
       "}\n",
       "\n",
       "#sk-container-id-1 div.sk-parallel {\n",
       "  display: flex;\n",
       "  align-items: stretch;\n",
       "  justify-content: center;\n",
       "  background-color: var(--sklearn-color-background);\n",
       "  position: relative;\n",
       "}\n",
       "\n",
       "#sk-container-id-1 div.sk-parallel-item {\n",
       "  display: flex;\n",
       "  flex-direction: column;\n",
       "}\n",
       "\n",
       "#sk-container-id-1 div.sk-parallel-item:first-child::after {\n",
       "  align-self: flex-end;\n",
       "  width: 50%;\n",
       "}\n",
       "\n",
       "#sk-container-id-1 div.sk-parallel-item:last-child::after {\n",
       "  align-self: flex-start;\n",
       "  width: 50%;\n",
       "}\n",
       "\n",
       "#sk-container-id-1 div.sk-parallel-item:only-child::after {\n",
       "  width: 0;\n",
       "}\n",
       "\n",
       "/* Serial-specific style estimator block */\n",
       "\n",
       "#sk-container-id-1 div.sk-serial {\n",
       "  display: flex;\n",
       "  flex-direction: column;\n",
       "  align-items: center;\n",
       "  background-color: var(--sklearn-color-background);\n",
       "  padding-right: 1em;\n",
       "  padding-left: 1em;\n",
       "}\n",
       "\n",
       "\n",
       "/* Toggleable style: style used for estimator/Pipeline/ColumnTransformer box that is\n",
       "clickable and can be expanded/collapsed.\n",
       "- Pipeline and ColumnTransformer use this feature and define the default style\n",
       "- Estimators will overwrite some part of the style using the `sk-estimator` class\n",
       "*/\n",
       "\n",
       "/* Pipeline and ColumnTransformer style (default) */\n",
       "\n",
       "#sk-container-id-1 div.sk-toggleable {\n",
       "  /* Default theme specific background. It is overwritten whether we have a\n",
       "  specific estimator or a Pipeline/ColumnTransformer */\n",
       "  background-color: var(--sklearn-color-background);\n",
       "}\n",
       "\n",
       "/* Toggleable label */\n",
       "#sk-container-id-1 label.sk-toggleable__label {\n",
       "  cursor: pointer;\n",
       "  display: block;\n",
       "  width: 100%;\n",
       "  margin-bottom: 0;\n",
       "  padding: 0.5em;\n",
       "  box-sizing: border-box;\n",
       "  text-align: center;\n",
       "}\n",
       "\n",
       "#sk-container-id-1 label.sk-toggleable__label-arrow:before {\n",
       "  /* Arrow on the left of the label */\n",
       "  content: \"▸\";\n",
       "  float: left;\n",
       "  margin-right: 0.25em;\n",
       "  color: var(--sklearn-color-icon);\n",
       "}\n",
       "\n",
       "#sk-container-id-1 label.sk-toggleable__label-arrow:hover:before {\n",
       "  color: var(--sklearn-color-text);\n",
       "}\n",
       "\n",
       "/* Toggleable content - dropdown */\n",
       "\n",
       "#sk-container-id-1 div.sk-toggleable__content {\n",
       "  max-height: 0;\n",
       "  max-width: 0;\n",
       "  overflow: hidden;\n",
       "  text-align: left;\n",
       "  /* unfitted */\n",
       "  background-color: var(--sklearn-color-unfitted-level-0);\n",
       "}\n",
       "\n",
       "#sk-container-id-1 div.sk-toggleable__content.fitted {\n",
       "  /* fitted */\n",
       "  background-color: var(--sklearn-color-fitted-level-0);\n",
       "}\n",
       "\n",
       "#sk-container-id-1 div.sk-toggleable__content pre {\n",
       "  margin: 0.2em;\n",
       "  border-radius: 0.25em;\n",
       "  color: var(--sklearn-color-text);\n",
       "  /* unfitted */\n",
       "  background-color: var(--sklearn-color-unfitted-level-0);\n",
       "}\n",
       "\n",
       "#sk-container-id-1 div.sk-toggleable__content.fitted pre {\n",
       "  /* unfitted */\n",
       "  background-color: var(--sklearn-color-fitted-level-0);\n",
       "}\n",
       "\n",
       "#sk-container-id-1 input.sk-toggleable__control:checked~div.sk-toggleable__content {\n",
       "  /* Expand drop-down */\n",
       "  max-height: 200px;\n",
       "  max-width: 100%;\n",
       "  overflow: auto;\n",
       "}\n",
       "\n",
       "#sk-container-id-1 input.sk-toggleable__control:checked~label.sk-toggleable__label-arrow:before {\n",
       "  content: \"▾\";\n",
       "}\n",
       "\n",
       "/* Pipeline/ColumnTransformer-specific style */\n",
       "\n",
       "#sk-container-id-1 div.sk-label input.sk-toggleable__control:checked~label.sk-toggleable__label {\n",
       "  color: var(--sklearn-color-text);\n",
       "  background-color: var(--sklearn-color-unfitted-level-2);\n",
       "}\n",
       "\n",
       "#sk-container-id-1 div.sk-label.fitted input.sk-toggleable__control:checked~label.sk-toggleable__label {\n",
       "  background-color: var(--sklearn-color-fitted-level-2);\n",
       "}\n",
       "\n",
       "/* Estimator-specific style */\n",
       "\n",
       "/* Colorize estimator box */\n",
       "#sk-container-id-1 div.sk-estimator input.sk-toggleable__control:checked~label.sk-toggleable__label {\n",
       "  /* unfitted */\n",
       "  background-color: var(--sklearn-color-unfitted-level-2);\n",
       "}\n",
       "\n",
       "#sk-container-id-1 div.sk-estimator.fitted input.sk-toggleable__control:checked~label.sk-toggleable__label {\n",
       "  /* fitted */\n",
       "  background-color: var(--sklearn-color-fitted-level-2);\n",
       "}\n",
       "\n",
       "#sk-container-id-1 div.sk-label label.sk-toggleable__label,\n",
       "#sk-container-id-1 div.sk-label label {\n",
       "  /* The background is the default theme color */\n",
       "  color: var(--sklearn-color-text-on-default-background);\n",
       "}\n",
       "\n",
       "/* On hover, darken the color of the background */\n",
       "#sk-container-id-1 div.sk-label:hover label.sk-toggleable__label {\n",
       "  color: var(--sklearn-color-text);\n",
       "  background-color: var(--sklearn-color-unfitted-level-2);\n",
       "}\n",
       "\n",
       "/* Label box, darken color on hover, fitted */\n",
       "#sk-container-id-1 div.sk-label.fitted:hover label.sk-toggleable__label.fitted {\n",
       "  color: var(--sklearn-color-text);\n",
       "  background-color: var(--sklearn-color-fitted-level-2);\n",
       "}\n",
       "\n",
       "/* Estimator label */\n",
       "\n",
       "#sk-container-id-1 div.sk-label label {\n",
       "  font-family: monospace;\n",
       "  font-weight: bold;\n",
       "  display: inline-block;\n",
       "  line-height: 1.2em;\n",
       "}\n",
       "\n",
       "#sk-container-id-1 div.sk-label-container {\n",
       "  text-align: center;\n",
       "}\n",
       "\n",
       "/* Estimator-specific */\n",
       "#sk-container-id-1 div.sk-estimator {\n",
       "  font-family: monospace;\n",
       "  border: 1px dotted var(--sklearn-color-border-box);\n",
       "  border-radius: 0.25em;\n",
       "  box-sizing: border-box;\n",
       "  margin-bottom: 0.5em;\n",
       "  /* unfitted */\n",
       "  background-color: var(--sklearn-color-unfitted-level-0);\n",
       "}\n",
       "\n",
       "#sk-container-id-1 div.sk-estimator.fitted {\n",
       "  /* fitted */\n",
       "  background-color: var(--sklearn-color-fitted-level-0);\n",
       "}\n",
       "\n",
       "/* on hover */\n",
       "#sk-container-id-1 div.sk-estimator:hover {\n",
       "  /* unfitted */\n",
       "  background-color: var(--sklearn-color-unfitted-level-2);\n",
       "}\n",
       "\n",
       "#sk-container-id-1 div.sk-estimator.fitted:hover {\n",
       "  /* fitted */\n",
       "  background-color: var(--sklearn-color-fitted-level-2);\n",
       "}\n",
       "\n",
       "/* Specification for estimator info (e.g. \"i\" and \"?\") */\n",
       "\n",
       "/* Common style for \"i\" and \"?\" */\n",
       "\n",
       ".sk-estimator-doc-link,\n",
       "a:link.sk-estimator-doc-link,\n",
       "a:visited.sk-estimator-doc-link {\n",
       "  float: right;\n",
       "  font-size: smaller;\n",
       "  line-height: 1em;\n",
       "  font-family: monospace;\n",
       "  background-color: var(--sklearn-color-background);\n",
       "  border-radius: 1em;\n",
       "  height: 1em;\n",
       "  width: 1em;\n",
       "  text-decoration: none !important;\n",
       "  margin-left: 1ex;\n",
       "  /* unfitted */\n",
       "  border: var(--sklearn-color-unfitted-level-1) 1pt solid;\n",
       "  color: var(--sklearn-color-unfitted-level-1);\n",
       "}\n",
       "\n",
       ".sk-estimator-doc-link.fitted,\n",
       "a:link.sk-estimator-doc-link.fitted,\n",
       "a:visited.sk-estimator-doc-link.fitted {\n",
       "  /* fitted */\n",
       "  border: var(--sklearn-color-fitted-level-1) 1pt solid;\n",
       "  color: var(--sklearn-color-fitted-level-1);\n",
       "}\n",
       "\n",
       "/* On hover */\n",
       "div.sk-estimator:hover .sk-estimator-doc-link:hover,\n",
       ".sk-estimator-doc-link:hover,\n",
       "div.sk-label-container:hover .sk-estimator-doc-link:hover,\n",
       ".sk-estimator-doc-link:hover {\n",
       "  /* unfitted */\n",
       "  background-color: var(--sklearn-color-unfitted-level-3);\n",
       "  color: var(--sklearn-color-background);\n",
       "  text-decoration: none;\n",
       "}\n",
       "\n",
       "div.sk-estimator.fitted:hover .sk-estimator-doc-link.fitted:hover,\n",
       ".sk-estimator-doc-link.fitted:hover,\n",
       "div.sk-label-container:hover .sk-estimator-doc-link.fitted:hover,\n",
       ".sk-estimator-doc-link.fitted:hover {\n",
       "  /* fitted */\n",
       "  background-color: var(--sklearn-color-fitted-level-3);\n",
       "  color: var(--sklearn-color-background);\n",
       "  text-decoration: none;\n",
       "}\n",
       "\n",
       "/* Span, style for the box shown on hovering the info icon */\n",
       ".sk-estimator-doc-link span {\n",
       "  display: none;\n",
       "  z-index: 9999;\n",
       "  position: relative;\n",
       "  font-weight: normal;\n",
       "  right: .2ex;\n",
       "  padding: .5ex;\n",
       "  margin: .5ex;\n",
       "  width: min-content;\n",
       "  min-width: 20ex;\n",
       "  max-width: 50ex;\n",
       "  color: var(--sklearn-color-text);\n",
       "  box-shadow: 2pt 2pt 4pt #999;\n",
       "  /* unfitted */\n",
       "  background: var(--sklearn-color-unfitted-level-0);\n",
       "  border: .5pt solid var(--sklearn-color-unfitted-level-3);\n",
       "}\n",
       "\n",
       ".sk-estimator-doc-link.fitted span {\n",
       "  /* fitted */\n",
       "  background: var(--sklearn-color-fitted-level-0);\n",
       "  border: var(--sklearn-color-fitted-level-3);\n",
       "}\n",
       "\n",
       ".sk-estimator-doc-link:hover span {\n",
       "  display: block;\n",
       "}\n",
       "\n",
       "/* \"?\"-specific style due to the `<a>` HTML tag */\n",
       "\n",
       "#sk-container-id-1 a.estimator_doc_link {\n",
       "  float: right;\n",
       "  font-size: 1rem;\n",
       "  line-height: 1em;\n",
       "  font-family: monospace;\n",
       "  background-color: var(--sklearn-color-background);\n",
       "  border-radius: 1rem;\n",
       "  height: 1rem;\n",
       "  width: 1rem;\n",
       "  text-decoration: none;\n",
       "  /* unfitted */\n",
       "  color: var(--sklearn-color-unfitted-level-1);\n",
       "  border: var(--sklearn-color-unfitted-level-1) 1pt solid;\n",
       "}\n",
       "\n",
       "#sk-container-id-1 a.estimator_doc_link.fitted {\n",
       "  /* fitted */\n",
       "  border: var(--sklearn-color-fitted-level-1) 1pt solid;\n",
       "  color: var(--sklearn-color-fitted-level-1);\n",
       "}\n",
       "\n",
       "/* On hover */\n",
       "#sk-container-id-1 a.estimator_doc_link:hover {\n",
       "  /* unfitted */\n",
       "  background-color: var(--sklearn-color-unfitted-level-3);\n",
       "  color: var(--sklearn-color-background);\n",
       "  text-decoration: none;\n",
       "}\n",
       "\n",
       "#sk-container-id-1 a.estimator_doc_link.fitted:hover {\n",
       "  /* fitted */\n",
       "  background-color: var(--sklearn-color-fitted-level-3);\n",
       "}\n",
       "</style><div id=\"sk-container-id-1\" class=\"sk-top-container\"><div class=\"sk-text-repr-fallback\"><pre>MinMaxScaler()</pre><b>In a Jupyter environment, please rerun this cell to show the HTML representation or trust the notebook. <br />On GitHub, the HTML representation is unable to render, please try loading this page with nbviewer.org.</b></div><div class=\"sk-container\" hidden><div class=\"sk-item\"><div class=\"sk-estimator fitted sk-toggleable\"><input class=\"sk-toggleable__control sk-hidden--visually\" id=\"sk-estimator-id-1\" type=\"checkbox\" checked><label for=\"sk-estimator-id-1\" class=\"sk-toggleable__label fitted sk-toggleable__label-arrow fitted\">&nbsp;&nbsp;MinMaxScaler<a class=\"sk-estimator-doc-link fitted\" rel=\"noreferrer\" target=\"_blank\" href=\"https://scikit-learn.org/1.5/modules/generated/sklearn.preprocessing.MinMaxScaler.html\">?<span>Documentation for MinMaxScaler</span></a><span class=\"sk-estimator-doc-link fitted\">i<span>Fitted</span></span></label><div class=\"sk-toggleable__content fitted\"><pre>MinMaxScaler()</pre></div> </div></div></div></div>"
      ],
      "text/plain": [
       "MinMaxScaler()"
      ]
     },
     "execution_count": 59,
     "metadata": {},
     "output_type": "execute_result"
    }
   ],
   "source": [
    "train_minmax = MinMaxScaler() ## Initialise scaler\n",
    "train_minmax.fit(X_train_fe)"
   ]
  },
  {
   "cell_type": "code",
   "execution_count": 60,
   "id": "f3b07241-3d63-41fd-a85e-562df990f4a2",
   "metadata": {},
   "outputs": [],
   "source": [
    "def max_min(df):\n",
    "    global train_minmax\n",
    "    df=df.copy()\n",
    "    df = train_minmax.transform(df)\n",
    "    return df"
   ]
  },
  {
   "cell_type": "code",
   "execution_count": 61,
   "id": "4c947c86-8bbb-4f12-b22d-1e6361ee3ed9",
   "metadata": {},
   "outputs": [],
   "source": [
    "X_train_fe_scaled = pd.DataFrame(max_min(X_train_fe), index = X_train_fe.index, columns = X_train_fe.columns)"
   ]
  },
  {
   "cell_type": "code",
   "execution_count": 62,
   "id": "03fed9e4-da76-47de-936a-1ffb4d63188f",
   "metadata": {},
   "outputs": [],
   "source": [
    "X_test_fe_scaled = pd.DataFrame(max_min(X_test_fe), index = X_test_fe.index, columns = X_test_fe.columns)"
   ]
  },
  {
   "cell_type": "markdown",
   "id": "663f34cc-06db-4bad-9f9a-8c1fc665bcc7",
   "metadata": {
    "jp-MarkdownHeadingCollapsed": true
   },
   "source": [
    "### **Feature Selection** `selected_features`"
   ]
  },
  {
   "cell_type": "markdown",
   "id": "085fe27b-4c57-4ee8-94b2-409b572a6578",
   "metadata": {},
   "source": [
    "* #### **Based on Correlation with the target**"
   ]
  },
  {
   "cell_type": "code",
   "execution_count": 65,
   "id": "f7db4018-d7a4-457e-be0d-0ab1a91a81e5",
   "metadata": {},
   "outputs": [
    {
     "data": {
      "text/plain": [
       "['Senior Citizen',\n",
       " 'Partner',\n",
       " 'Dependents',\n",
       " 'Tenure Months',\n",
       " 'Phone Service',\n",
       " 'Multiple Lines',\n",
       " 'Online Security',\n",
       " 'Online Backup',\n",
       " 'Device Protection',\n",
       " 'Tech Support',\n",
       " 'Streaming TV',\n",
       " 'Streaming Movies',\n",
       " 'Paperless Billing',\n",
       " 'Monthly Charges',\n",
       " 'Total Charges',\n",
       " 'Internet Service_Fiber optic',\n",
       " 'Internet Service_No',\n",
       " 'Payment Method_Credit card (automatic)',\n",
       " 'Payment Method_Electronic check',\n",
       " 'Payment Method_Mailed check',\n",
       " 'Contract_One year',\n",
       " 'Contract_Two year']"
      ]
     },
     "execution_count": 65,
     "metadata": {},
     "output_type": "execute_result"
    }
   ],
   "source": [
    "# Re-combine X_train and y_train\n",
    "\n",
    "# Align Indices\n",
    "y_train_for_corr = pd.DataFrame({'CustomerID':X_train_fe_scaled.index,\n",
    "                                 'Churn Value':y_train})\n",
    "y_train_for_corr.set_index('CustomerID',inplace=True)\n",
    "#Re-combine\n",
    "training_set = pd.concat([X_train_fe_scaled, y_train_for_corr], axis=1)\n",
    "#Find columns with correlation to the target\n",
    "corr_features = [col for col in X_train_fe_scaled.columns if abs(training_set.corr()['Churn Value'][col]) >= 0.01]\n",
    "corr_features"
   ]
  },
  {
   "cell_type": "markdown",
   "id": "69e543ce-56d7-4ccb-96b4-38cdff11009f",
   "metadata": {},
   "source": [
    "* #### **Based on ViF Score**"
   ]
  },
  {
   "cell_type": "code",
   "execution_count": 67,
   "id": "393aa4ec-0ea8-4919-a1b8-21f4bac887c1",
   "metadata": {},
   "outputs": [],
   "source": [
    "## This a piece of code from stats.stackexchange.com\n",
    "\n",
    "## It runs the model with all the variables.\n",
    "## If any of them have a higher VIF than 4, it drops the max. \n",
    "## Then it keeps going until none of them have a higher VIF than 5.\n",
    "## This leaves us with a nice set of features with no collineraity\n",
    "\n",
    "def calculate_vif(X, thresh = 10.0):\n",
    "    variables = list(range(X.shape[1]))\n",
    "    dropped = True\n",
    "    while dropped:\n",
    "        dropped = False\n",
    "        # this bit uses list comprehension to gather all the VIF values of the different variables\n",
    "        vif = [variance_inflation_factor(X.iloc[:, variables].values, ix)\n",
    "               for ix in range(X.iloc[:, variables].shape[1])]\n",
    "        \n",
    "        maxloc = vif.index(max(vif)) # getting the index of the highest VIF value\n",
    "        if max(vif) > thresh:\n",
    "            print('dropping \\'' + X.iloc[:, variables].columns[maxloc] +\n",
    "                  '\\' at index: ' + str(maxloc))\n",
    "            del variables[maxloc] # we delete the highest VIF value on condition that it's higher than the threshold\n",
    "            dropped = True # if we deleted anything, we set the 'dropped' value to True to stay in the while loop\n",
    "\n",
    "    print('Remaining variables:')\n",
    "    return list(X.columns[variables]) # finally, we print the variables that are still in our set\n",
    "   "
   ]
  },
  {
   "cell_type": "code",
   "execution_count": 68,
   "id": "7d3f75f6-d66e-4605-a3ad-de740472ba0c",
   "metadata": {},
   "outputs": [
    {
     "name": "stdout",
     "output_type": "stream",
     "text": [
      "dropping 'Monthly Charges' at index: 13\n",
      "dropping 'Total Charges' at index: 13\n",
      "Remaining variables:\n"
     ]
    },
    {
     "data": {
      "text/plain": [
       "['Senior Citizen',\n",
       " 'Partner',\n",
       " 'Dependents',\n",
       " 'Tenure Months',\n",
       " 'Phone Service',\n",
       " 'Multiple Lines',\n",
       " 'Online Security',\n",
       " 'Online Backup',\n",
       " 'Device Protection',\n",
       " 'Tech Support',\n",
       " 'Streaming TV',\n",
       " 'Streaming Movies',\n",
       " 'Paperless Billing',\n",
       " 'Internet Service_Fiber optic',\n",
       " 'Internet Service_No',\n",
       " 'Payment Method_Credit card (automatic)',\n",
       " 'Payment Method_Electronic check',\n",
       " 'Payment Method_Mailed check',\n",
       " 'Contract_One year',\n",
       " 'Contract_Two year']"
      ]
     },
     "execution_count": 68,
     "metadata": {},
     "output_type": "execute_result"
    }
   ],
   "source": [
    "vif_features = calculate_vif(X_train_fe_scaled[corr_features], thresh = 10)\n",
    "vif_features"
   ]
  },
  {
   "cell_type": "markdown",
   "id": "6cc6ea3a-fe2d-460b-85f4-467847e2321b",
   "metadata": {},
   "source": [
    "* #### **Final Selection** `selected_features`"
   ]
  },
  {
   "cell_type": "code",
   "execution_count": 70,
   "id": "d8b26d32-ce1a-4d62-8a52-7407e7db1cb6",
   "metadata": {},
   "outputs": [],
   "source": [
    "selected_features = [\n",
    " 'Partner',\n",
    " 'Dependents',\n",
    " 'Tenure Months',\n",
    " 'Phone Service',\n",
    " 'Multiple Lines',\n",
    " 'Online Security',\n",
    " 'Tech Support',\n",
    " 'Streaming TV',\n",
    " 'Streaming Movies',\n",
    " 'Paperless Billing',\n",
    " 'Internet Service_Fiber optic',\n",
    " 'Internet Service_No',\n",
    " 'Payment Method_Electronic check',\n",
    " 'Contract_One year',\n",
    " 'Contract_Two year']\n",
    "\n",
    "# Removed `Senior Citizen`, `Payment Method_Credit card (automatic)` `Online Backup`, and `Device Protection` as early testing showed high p-values"
   ]
  },
  {
   "cell_type": "code",
   "execution_count": 71,
   "id": "a330d201-bbe5-4ac4-b0e5-6609bc1688f2",
   "metadata": {},
   "outputs": [],
   "source": [
    "# X_train =>> General Feature Engineered --> \n",
    "#             Scaled --> \n",
    "#             Feature Selection =>> \n",
    "#             X_train_final\n",
    "\n",
    "X_train_final = X_train_fe_scaled[selected_features]"
   ]
  },
  {
   "cell_type": "code",
   "execution_count": 72,
   "id": "9d671edb-be00-48da-b9a4-abf75f21a304",
   "metadata": {},
   "outputs": [],
   "source": [
    "# X_test =>> General Feature Engineered --> \n",
    "#             Scaled --> \n",
    "#             Feature Selection =>> \n",
    "#             X_test_final\n",
    "\n",
    "X_test_final = X_test_fe_scaled[selected_features] "
   ]
  },
  {
   "cell_type": "markdown",
   "id": "f326db5d-0987-4657-ae5c-9bbd1decd765",
   "metadata": {
    "jp-MarkdownHeadingCollapsed": true
   },
   "source": [
    "## <u>**Modeling (StatsModels)**<u>"
   ]
  },
  {
   "cell_type": "code",
   "execution_count": 74,
   "id": "da3ebace-afc3-4760-8dc9-3d78f6238f7f",
   "metadata": {},
   "outputs": [],
   "source": [
    "log_reg = sm.Logit(y_train, X_train_final)"
   ]
  },
  {
   "cell_type": "code",
   "execution_count": 75,
   "id": "48d10b8d-2f0f-4928-9293-8525d1fba931",
   "metadata": {},
   "outputs": [
    {
     "name": "stdout",
     "output_type": "stream",
     "text": [
      "Optimization terminated successfully.\n",
      "         Current function value: 0.397589\n",
      "         Iterations 8\n"
     ]
    }
   ],
   "source": [
    "result = log_reg.fit()"
   ]
  },
  {
   "cell_type": "code",
   "execution_count": 76,
   "id": "184da82a-82b1-4a53-ac03-a4ad6b9a881b",
   "metadata": {},
   "outputs": [
    {
     "name": "stdout",
     "output_type": "stream",
     "text": [
      "                           Logit Regression Results                           \n",
      "==============================================================================\n",
      "Dep. Variable:            Churn Value   No. Observations:                 5634\n",
      "Model:                          Logit   Df Residuals:                     5619\n",
      "Method:                           MLE   Df Model:                           14\n",
      "Date:                Wed, 23 Jul 2025   Pseudo R-squ.:                  0.3071\n",
      "Time:                        13:40:29   Log-Likelihood:                -2240.0\n",
      "converged:                       True   LL-Null:                       -3232.9\n",
      "Covariance Type:            nonrobust   LLR p-value:                     0.000\n",
      "===================================================================================================\n",
      "                                      coef    std err          z      P>|z|      [0.025      0.975]\n",
      "---------------------------------------------------------------------------------------------------\n",
      "Partner                             0.2630      0.085      3.107      0.002       0.097       0.429\n",
      "Dependents                         -1.4853      0.131    -11.369      0.000      -1.741      -1.229\n",
      "Tenure Months                      -2.7353      0.186    -14.733      0.000      -3.099      -2.371\n",
      "Phone Service                      -0.5327      0.104     -5.140      0.000      -0.736      -0.330\n",
      "Multiple Lines                      0.3684      0.090      4.088      0.000       0.192       0.545\n",
      "Online Security                    -0.3840      0.096     -4.021      0.000      -0.571      -0.197\n",
      "Tech Support                       -0.3348      0.096     -3.504      0.000      -0.522      -0.148\n",
      "Streaming TV                        0.2739      0.090      3.027      0.002       0.097       0.451\n",
      "Streaming Movies                    0.2088      0.091      2.300      0.021       0.031       0.387\n",
      "Paperless Billing                   0.3377      0.079      4.274      0.000       0.183       0.493\n",
      "Internet Service_Fiber optic        0.8184      0.104      7.894      0.000       0.615       1.022\n",
      "Internet Service_No                -0.8276      0.151     -5.497      0.000      -1.123      -0.532\n",
      "Payment Method_Electronic check     0.3228      0.077      4.208      0.000       0.172       0.473\n",
      "Contract_One year                  -0.6178      0.120     -5.168      0.000      -0.852      -0.383\n",
      "Contract_Two year                  -1.3669      0.202     -6.762      0.000      -1.763      -0.971\n",
      "===================================================================================================\n"
     ]
    }
   ],
   "source": [
    "print(result.summary())"
   ]
  },
  {
   "cell_type": "markdown",
   "id": "84ac9812-ebe4-4ddb-8b16-32b707577346",
   "metadata": {},
   "source": [
    "### **Choose your threshold**"
   ]
  },
  {
   "cell_type": "code",
   "execution_count": 167,
   "id": "d20bc509-708a-49f2-bfb9-1d68e09fbf4b",
   "metadata": {},
   "outputs": [],
   "source": [
    "threshold = 0.325"
   ]
  },
  {
   "cell_type": "code",
   "execution_count": 169,
   "id": "b9369a66-39d1-4063-93db-d987576e871e",
   "metadata": {},
   "outputs": [
    {
     "data": {
      "text/html": [
       "<div>\n",
       "<style scoped>\n",
       "    .dataframe tbody tr th:only-of-type {\n",
       "        vertical-align: middle;\n",
       "    }\n",
       "\n",
       "    .dataframe tbody tr th {\n",
       "        vertical-align: top;\n",
       "    }\n",
       "\n",
       "    .dataframe thead th {\n",
       "        text-align: right;\n",
       "    }\n",
       "</style>\n",
       "<table border=\"1\" class=\"dataframe\">\n",
       "  <thead>\n",
       "    <tr style=\"text-align: right;\">\n",
       "      <th></th>\n",
       "      <th>y_train_prob</th>\n",
       "      <th>y_train_pred</th>\n",
       "      <th>y_train</th>\n",
       "    </tr>\n",
       "    <tr>\n",
       "      <th>CustomerID</th>\n",
       "      <th></th>\n",
       "      <th></th>\n",
       "      <th></th>\n",
       "    </tr>\n",
       "  </thead>\n",
       "  <tbody>\n",
       "    <tr>\n",
       "      <th>9571-EDEBV</th>\n",
       "      <td>0.171144</td>\n",
       "      <td>0</td>\n",
       "      <td>0</td>\n",
       "    </tr>\n",
       "    <tr>\n",
       "      <th>7562-GSUHK</th>\n",
       "      <td>0.555860</td>\n",
       "      <td>1</td>\n",
       "      <td>1</td>\n",
       "    </tr>\n",
       "    <tr>\n",
       "      <th>2325-WINES</th>\n",
       "      <td>0.411217</td>\n",
       "      <td>1</td>\n",
       "      <td>0</td>\n",
       "    </tr>\n",
       "    <tr>\n",
       "      <th>9381-NDKME</th>\n",
       "      <td>0.474464</td>\n",
       "      <td>1</td>\n",
       "      <td>1</td>\n",
       "    </tr>\n",
       "    <tr>\n",
       "      <th>2164-SOQXL</th>\n",
       "      <td>0.034149</td>\n",
       "      <td>0</td>\n",
       "      <td>0</td>\n",
       "    </tr>\n",
       "  </tbody>\n",
       "</table>\n",
       "</div>"
      ],
      "text/plain": [
       "            y_train_prob  y_train_pred  y_train\n",
       "CustomerID                                     \n",
       "9571-EDEBV      0.171144             0        0\n",
       "7562-GSUHK      0.555860             1        1\n",
       "2325-WINES      0.411217             1        0\n",
       "9381-NDKME      0.474464             1        1\n",
       "2164-SOQXL      0.034149             0        0"
      ]
     },
     "execution_count": 169,
     "metadata": {},
     "output_type": "execute_result"
    }
   ],
   "source": [
    "results_train = pd.DataFrame()\n",
    "results_train['y_train_prob'] = result.predict(X_train_final)\n",
    "results_train['y_train_pred'] = (results_train['y_train_prob']>threshold).astype(int)\n",
    "results_train['y_train'] = y_train\n",
    "results_train.head()"
   ]
  },
  {
   "cell_type": "code",
   "execution_count": 170,
   "id": "45a83eec-e893-4755-9f45-98c32c7506de",
   "metadata": {},
   "outputs": [],
   "source": [
    "def get_results(actual, predicted):\n",
    "    print(\"The confusion matrix for your predictions is:\")\n",
    "    print(metrics.confusion_matrix(actual, predicted), \"\\n\")\n",
    "    print(f'The accuracy of your model is: {metrics.accuracy_score(actual, predicted)}')\n",
    "    print(f'The recall of your model is: {metrics.recall_score(actual, predicted)}')\n",
    "    print(f'The precision of your model is: {metrics.precision_score(actual, predicted)}')\n",
    "    print(f'The F1-score of your model is: {metrics.f1_score(actual, predicted)}')"
   ]
  },
  {
   "cell_type": "code",
   "execution_count": 173,
   "id": "d1349bf8-bd4b-4f96-8afb-307fc9f61e6c",
   "metadata": {},
   "outputs": [
    {
     "name": "stdout",
     "output_type": "stream",
     "text": [
      "The confusion matrix for your predictions is:\n",
      "[[3314  851]\n",
      " [ 366 1103]] \n",
      "\n",
      "The accuracy of your model is: 0.7839900603478879\n",
      "The recall of your model is: 0.7508509189925119\n",
      "The precision of your model is: 0.5644831115660184\n",
      "The F1-score of your model is: 0.6444639205375402\n"
     ]
    }
   ],
   "source": [
    "get_results(results_train.y_train,results_train.y_train_pred)"
   ]
  },
  {
   "cell_type": "markdown",
   "id": "72e3855d-12a4-45a5-814b-9bdb4aab80c0",
   "metadata": {
    "jp-MarkdownHeadingCollapsed": true
   },
   "source": [
    "## <u>**Evaluation (StatsModels)**<u>"
   ]
  },
  {
   "cell_type": "code",
   "execution_count": 176,
   "id": "d3b5b44b-19c4-4814-bd68-6092e485cf7e",
   "metadata": {},
   "outputs": [
    {
     "data": {
      "text/html": [
       "<div>\n",
       "<style scoped>\n",
       "    .dataframe tbody tr th:only-of-type {\n",
       "        vertical-align: middle;\n",
       "    }\n",
       "\n",
       "    .dataframe tbody tr th {\n",
       "        vertical-align: top;\n",
       "    }\n",
       "\n",
       "    .dataframe thead th {\n",
       "        text-align: right;\n",
       "    }\n",
       "</style>\n",
       "<table border=\"1\" class=\"dataframe\">\n",
       "  <thead>\n",
       "    <tr style=\"text-align: right;\">\n",
       "      <th></th>\n",
       "      <th>y_test_prob</th>\n",
       "      <th>y_test_pred</th>\n",
       "      <th>y_test</th>\n",
       "    </tr>\n",
       "    <tr>\n",
       "      <th>CustomerID</th>\n",
       "      <th></th>\n",
       "      <th></th>\n",
       "      <th></th>\n",
       "    </tr>\n",
       "  </thead>\n",
       "  <tbody>\n",
       "    <tr>\n",
       "      <th>2189-WWOEW</th>\n",
       "      <td>0.565218</td>\n",
       "      <td>1</td>\n",
       "      <td>1</td>\n",
       "    </tr>\n",
       "    <tr>\n",
       "      <th>2446-ZKVAF</th>\n",
       "      <td>0.357774</td>\n",
       "      <td>1</td>\n",
       "      <td>0</td>\n",
       "    </tr>\n",
       "    <tr>\n",
       "      <th>4986-MXSFP</th>\n",
       "      <td>0.250026</td>\n",
       "      <td>0</td>\n",
       "      <td>0</td>\n",
       "    </tr>\n",
       "    <tr>\n",
       "      <th>5868-YWPDW</th>\n",
       "      <td>0.766764</td>\n",
       "      <td>1</td>\n",
       "      <td>1</td>\n",
       "    </tr>\n",
       "    <tr>\n",
       "      <th>9412-GHEEC</th>\n",
       "      <td>0.327924</td>\n",
       "      <td>1</td>\n",
       "      <td>1</td>\n",
       "    </tr>\n",
       "  </tbody>\n",
       "</table>\n",
       "</div>"
      ],
      "text/plain": [
       "            y_test_prob  y_test_pred  y_test\n",
       "CustomerID                                  \n",
       "2189-WWOEW     0.565218            1       1\n",
       "2446-ZKVAF     0.357774            1       0\n",
       "4986-MXSFP     0.250026            0       0\n",
       "5868-YWPDW     0.766764            1       1\n",
       "9412-GHEEC     0.327924            1       1"
      ]
     },
     "execution_count": 176,
     "metadata": {},
     "output_type": "execute_result"
    }
   ],
   "source": [
    "results_test = pd.DataFrame()\n",
    "results_test['y_test_prob'] = result.predict(X_test_final)\n",
    "results_test['y_test_pred'] = (results_test['y_test_prob']>threshold).astype(int)\n",
    "results_test['y_test'] = y_test\n",
    "results_test.head()"
   ]
  },
  {
   "cell_type": "code",
   "execution_count": 178,
   "id": "c4df1475-ee44-4b3c-a627-a75856afc1ad",
   "metadata": {},
   "outputs": [
    {
     "name": "stdout",
     "output_type": "stream",
     "text": [
      "The confusion matrix for your predictions is:\n",
      "[[797 212]\n",
      " [103 297]] \n",
      "\n",
      "The accuracy of your model is: 0.7764371894960965\n",
      "The recall of your model is: 0.7425\n",
      "The precision of your model is: 0.5834970530451866\n",
      "The F1-score of your model is: 0.6534653465346535\n"
     ]
    }
   ],
   "source": [
    "get_results(results_test.y_test,results_test.y_test_pred)"
   ]
  },
  {
   "cell_type": "code",
   "execution_count": 180,
   "id": "ab60df52-80bc-4c7a-9234-74d9719dddf9",
   "metadata": {},
   "outputs": [
    {
     "name": "stderr",
     "output_type": "stream",
     "text": [
      "/opt/anaconda3/lib/python3.12/site-packages/sklearn/metrics/_classification.py:1531: UndefinedMetricWarning: Precision is ill-defined and being set to 0.0 due to no predicted samples. Use `zero_division` parameter to control this behavior.\n",
      "  _warn_prf(average, modifier, f\"{metric.capitalize()} is\", len(result))\n",
      "/opt/anaconda3/lib/python3.12/site-packages/sklearn/metrics/_classification.py:1531: UndefinedMetricWarning: Precision is ill-defined and being set to 0.0 due to no predicted samples. Use `zero_division` parameter to control this behavior.\n",
      "  _warn_prf(average, modifier, f\"{metric.capitalize()} is\", len(result))\n",
      "/opt/anaconda3/lib/python3.12/site-packages/sklearn/metrics/_classification.py:1531: UndefinedMetricWarning: Precision is ill-defined and being set to 0.0 due to no predicted samples. Use `zero_division` parameter to control this behavior.\n",
      "  _warn_prf(average, modifier, f\"{metric.capitalize()} is\", len(result))\n",
      "/opt/anaconda3/lib/python3.12/site-packages/sklearn/metrics/_classification.py:1531: UndefinedMetricWarning: Precision is ill-defined and being set to 0.0 due to no predicted samples. Use `zero_division` parameter to control this behavior.\n",
      "  _warn_prf(average, modifier, f\"{metric.capitalize()} is\", len(result))\n",
      "/opt/anaconda3/lib/python3.12/site-packages/sklearn/metrics/_classification.py:1531: UndefinedMetricWarning: Precision is ill-defined and being set to 0.0 due to no predicted samples. Use `zero_division` parameter to control this behavior.\n",
      "  _warn_prf(average, modifier, f\"{metric.capitalize()} is\", len(result))\n",
      "/opt/anaconda3/lib/python3.12/site-packages/sklearn/metrics/_classification.py:1531: UndefinedMetricWarning: Precision is ill-defined and being set to 0.0 due to no predicted samples. Use `zero_division` parameter to control this behavior.\n",
      "  _warn_prf(average, modifier, f\"{metric.capitalize()} is\", len(result))\n",
      "/opt/anaconda3/lib/python3.12/site-packages/sklearn/metrics/_classification.py:1531: UndefinedMetricWarning: Precision is ill-defined and being set to 0.0 due to no predicted samples. Use `zero_division` parameter to control this behavior.\n",
      "  _warn_prf(average, modifier, f\"{metric.capitalize()} is\", len(result))\n",
      "/opt/anaconda3/lib/python3.12/site-packages/sklearn/metrics/_classification.py:1531: UndefinedMetricWarning: Precision is ill-defined and being set to 0.0 due to no predicted samples. Use `zero_division` parameter to control this behavior.\n",
      "  _warn_prf(average, modifier, f\"{metric.capitalize()} is\", len(result))\n",
      "/opt/anaconda3/lib/python3.12/site-packages/sklearn/metrics/_classification.py:1531: UndefinedMetricWarning: Precision is ill-defined and being set to 0.0 due to no predicted samples. Use `zero_division` parameter to control this behavior.\n",
      "  _warn_prf(average, modifier, f\"{metric.capitalize()} is\", len(result))\n",
      "/opt/anaconda3/lib/python3.12/site-packages/sklearn/metrics/_classification.py:1531: UndefinedMetricWarning: Precision is ill-defined and being set to 0.0 due to no predicted samples. Use `zero_division` parameter to control this behavior.\n",
      "  _warn_prf(average, modifier, f\"{metric.capitalize()} is\", len(result))\n",
      "/opt/anaconda3/lib/python3.12/site-packages/sklearn/metrics/_classification.py:1531: UndefinedMetricWarning: Precision is ill-defined and being set to 0.0 due to no predicted samples. Use `zero_division` parameter to control this behavior.\n",
      "  _warn_prf(average, modifier, f\"{metric.capitalize()} is\", len(result))\n",
      "/opt/anaconda3/lib/python3.12/site-packages/sklearn/metrics/_classification.py:1531: UndefinedMetricWarning: Precision is ill-defined and being set to 0.0 due to no predicted samples. Use `zero_division` parameter to control this behavior.\n",
      "  _warn_prf(average, modifier, f\"{metric.capitalize()} is\", len(result))\n",
      "/opt/anaconda3/lib/python3.12/site-packages/sklearn/metrics/_classification.py:1531: UndefinedMetricWarning: Precision is ill-defined and being set to 0.0 due to no predicted samples. Use `zero_division` parameter to control this behavior.\n",
      "  _warn_prf(average, modifier, f\"{metric.capitalize()} is\", len(result))\n"
     ]
    },
    {
     "data": {
      "image/png": "[encoded data removed]",
      "text/plain": [
       "<Figure size 640x480 with 4 Axes>"
      ]
     },
     "metadata": {},
     "output_type": "display_data"
    }
   ],
   "source": [
    "thresholds = np.linspace(0, 1, 100)\n",
    "f1s = [metrics.f1_score(y_test, (results_test.y_test_prob>t).astype(int)) for t in thresholds]\n",
    "precisions = [metrics.precision_score(y_test, (results_test.y_test_prob>t).astype(int)) for t in thresholds]\n",
    "recalls = [metrics.recall_score(y_test, (results_test.y_test_prob>t).astype(int)) for t in thresholds]\n",
    "accuracies = [metrics.accuracy_score(y_test, (results_test.y_test_prob>t).astype(int)) for t in thresholds]\n",
    "\n",
    "plt.subplot(2,2,1)\n",
    "sns.lineplot(x=thresholds,y = f1s)\n",
    "plt.xlabel(\"Threshold\")\n",
    "plt.ylabel(\"F1 Score\")\n",
    "plt.title(\"F1 Score vs. Decision Threshold\")\n",
    "\n",
    "\n",
    "plt.subplot(2,2,2)\n",
    "sns.lineplot(x=thresholds, y = precisions)\n",
    "plt.xlabel(\"Threshold\")\n",
    "plt.ylabel(\"Precision\")\n",
    "plt.title(\"Precision vs. Decision Threshold\")\n",
    "\n",
    "plt.subplot(2,2,3)\n",
    "sns.lineplot(x=thresholds, y= recalls)\n",
    "plt.xlabel(\"Threshold\")\n",
    "plt.ylabel(\"Recall\")\n",
    "plt.title(\"Recall vs. Decision Threshold\")\n",
    "\n",
    "plt.subplot(2,2,4)\n",
    "sns.lineplot(x=thresholds, y=accuracies)\n",
    "plt.xlabel(\"Threshold\")\n",
    "plt.ylabel(\"Accuracy\")\n",
    "plt.title(\"Accuracy vs. Decision Threshold\")\n",
    "\n",
    "    \n",
    "plt.tight_layout()"
   ]
  },
  {
   "cell_type": "markdown",
   "id": "984c0152-036a-4e26-ba81-909d507d57f3",
   "metadata": {
    "jp-MarkdownHeadingCollapsed": true
   },
   "source": [
    "# Gathering Remaining Customers' Probabilities"
   ]
  },
  {
   "cell_type": "code",
   "execution_count": 182,
   "id": "af7abbd8-66fa-4f98-956a-7e9b5c8f1107",
   "metadata": {},
   "outputs": [],
   "source": [
    "mask = data['Churn Value'] == 0"
   ]
  },
  {
   "cell_type": "code",
   "execution_count": 183,
   "id": "471c2c39-9567-4c54-bd62-87b389a6cc36",
   "metadata": {},
   "outputs": [],
   "source": [
    "swan_remain = data[mask]"
   ]
  },
  {
   "cell_type": "code",
   "execution_count": 184,
   "id": "f3ac7706-90d7-4e18-be60-de16cf4b7b07",
   "metadata": {},
   "outputs": [
    {
     "data": {
      "text/plain": [
       "5174"
      ]
     },
     "execution_count": 184,
     "metadata": {},
     "output_type": "execute_result"
    }
   ],
   "source": [
    "len(swan_remain)"
   ]
  },
  {
   "cell_type": "code",
   "execution_count": 185,
   "id": "bbe85da9-c6d3-490a-95b5-9aa4e614a3e6",
   "metadata": {},
   "outputs": [],
   "source": [
    "swan_remain_features = swan_remain.copy()\n",
    "swan_remain_features.drop(columns = 'Churn Value', inplace=True)"
   ]
  },
  {
   "cell_type": "code",
   "execution_count": 186,
   "id": "70b2d676-3cd2-4674-b2f3-00c653606ed0",
   "metadata": {},
   "outputs": [
    {
     "name": "stderr",
     "output_type": "stream",
     "text": [
      "/var/folders/gk/0ym9h57d05v80m40rlpbz2bm0000gq/T/ipykernel_69774/2918864045.py:3: FutureWarning: Downcasting behavior in `replace` is deprecated and will be removed in a future version. To retain the old behavior, explicitly call `result.infer_objects(copy=False)`. To opt-in to the future behavior, set `pd.set_option('future.no_silent_downcasting', True)`\n",
      "  col = df[col_name].replace({r'^No.*':0,'Yes':1,0:0,1:1}, regex=True)\n"
     ]
    }
   ],
   "source": [
    "# swan_remain =>> General Feature Engineered --> \n",
    "#              Scaled --> \n",
    "#              Feature Selection =>> \n",
    "#              swan_remain_final\n",
    "\n",
    "swan_remain_features_fe = feature_engineering(swan_remain_features)\n",
    "swan_remain_features_fe = pd.DataFrame(max_min(swan_remain_features_fe), index = swan_remain_features_fe.index, columns = swan_remain_features_fe.columns)\n",
    "swan_remain_final = swan_remain_features_fe[selected_features]"
   ]
  },
  {
   "cell_type": "code",
   "execution_count": 187,
   "id": "69fade13-0f4d-4136-86f1-f41bbbccf04f",
   "metadata": {},
   "outputs": [
    {
     "data": {
      "text/html": [
       "<div>\n",
       "<style scoped>\n",
       "    .dataframe tbody tr th:only-of-type {\n",
       "        vertical-align: middle;\n",
       "    }\n",
       "\n",
       "    .dataframe tbody tr th {\n",
       "        vertical-align: top;\n",
       "    }\n",
       "\n",
       "    .dataframe thead th {\n",
       "        text-align: right;\n",
       "    }\n",
       "</style>\n",
       "<table border=\"1\" class=\"dataframe\">\n",
       "  <thead>\n",
       "    <tr style=\"text-align: right;\">\n",
       "      <th></th>\n",
       "      <th>Churn Probability</th>\n",
       "    </tr>\n",
       "    <tr>\n",
       "      <th>CustomerID</th>\n",
       "      <th></th>\n",
       "    </tr>\n",
       "  </thead>\n",
       "  <tbody>\n",
       "    <tr>\n",
       "      <th>7590-VHVEG</th>\n",
       "      <td>0.707979</td>\n",
       "    </tr>\n",
       "    <tr>\n",
       "      <th>5575-GNVDE</th>\n",
       "      <td>0.055927</td>\n",
       "    </tr>\n",
       "    <tr>\n",
       "      <th>7795-CFOCW</th>\n",
       "      <td>0.045384</td>\n",
       "    </tr>\n",
       "    <tr>\n",
       "      <th>1452-KIOVK</th>\n",
       "      <td>0.258212</td>\n",
       "    </tr>\n",
       "    <tr>\n",
       "      <th>6713-OKOMC</th>\n",
       "      <td>0.317795</td>\n",
       "    </tr>\n",
       "  </tbody>\n",
       "</table>\n",
       "</div>"
      ],
      "text/plain": [
       "            Churn Probability\n",
       "CustomerID                   \n",
       "7590-VHVEG           0.707979\n",
       "5575-GNVDE           0.055927\n",
       "7795-CFOCW           0.045384\n",
       "1452-KIOVK           0.258212\n",
       "6713-OKOMC           0.317795"
      ]
     },
     "execution_count": 187,
     "metadata": {},
     "output_type": "execute_result"
    }
   ],
   "source": [
    "remain_list = pd.DataFrame()\n",
    "remain_list['Churn Probability'] = result.predict(swan_remain_final)\n",
    "remain_list.head()"
   ]
  },
  {
   "cell_type": "code",
   "execution_count": 188,
   "id": "d4a3040d-4e00-4cac-b5fc-1fb19ea8ba47",
   "metadata": {},
   "outputs": [],
   "source": [
    "Most_at_risk = remain_list.sort_values('Churn Probability',ascending=False).head(500)[['Churn Probability']]"
   ]
  },
  {
   "cell_type": "code",
   "execution_count": 189,
   "id": "0065ef2e-6d5c-4926-ba5e-ebc5b00b7c9f",
   "metadata": {},
   "outputs": [
    {
     "data": {
      "text/html": [
       "<div>\n",
       "<style scoped>\n",
       "    .dataframe tbody tr th:only-of-type {\n",
       "        vertical-align: middle;\n",
       "    }\n",
       "\n",
       "    .dataframe tbody tr th {\n",
       "        vertical-align: top;\n",
       "    }\n",
       "\n",
       "    .dataframe thead th {\n",
       "        text-align: right;\n",
       "    }\n",
       "</style>\n",
       "<table border=\"1\" class=\"dataframe\">\n",
       "  <thead>\n",
       "    <tr style=\"text-align: right;\">\n",
       "      <th></th>\n",
       "      <th>Churn Probability</th>\n",
       "    </tr>\n",
       "    <tr>\n",
       "      <th>CustomerID</th>\n",
       "      <th></th>\n",
       "    </tr>\n",
       "  </thead>\n",
       "  <tbody>\n",
       "    <tr>\n",
       "      <th>4927-WWOOZ</th>\n",
       "      <td>0.855158</td>\n",
       "    </tr>\n",
       "    <tr>\n",
       "      <th>3489-HHPFY</th>\n",
       "      <td>0.855158</td>\n",
       "    </tr>\n",
       "    <tr>\n",
       "      <th>6630-UJZMY</th>\n",
       "      <td>0.845490</td>\n",
       "    </tr>\n",
       "    <tr>\n",
       "      <th>5150-ITWWB</th>\n",
       "      <td>0.843351</td>\n",
       "    </tr>\n",
       "    <tr>\n",
       "      <th>7398-SKNQZ</th>\n",
       "      <td>0.833228</td>\n",
       "    </tr>\n",
       "  </tbody>\n",
       "</table>\n",
       "</div>"
      ],
      "text/plain": [
       "            Churn Probability\n",
       "CustomerID                   \n",
       "4927-WWOOZ           0.855158\n",
       "3489-HHPFY           0.855158\n",
       "6630-UJZMY           0.845490\n",
       "5150-ITWWB           0.843351\n",
       "7398-SKNQZ           0.833228"
      ]
     },
     "execution_count": 189,
     "metadata": {},
     "output_type": "execute_result"
    }
   ],
   "source": [
    "Most_at_risk.head()"
   ]
  },
  {
   "cell_type": "code",
   "execution_count": 190,
   "id": "4c9a89c2-b8ea-41bb-b39d-009f4a1ecbed",
   "metadata": {},
   "outputs": [],
   "source": [
    "Most_at_risk.to_csv('most_at_risk.csv')"
   ]
  },
  {
   "cell_type": "code",
   "execution_count": 191,
   "id": "75dfd5f4-f0fd-41ad-b4b3-598c6018534b",
   "metadata": {},
   "outputs": [],
   "source": [
    "all_remaining_customers = remain_list[['Churn Probability']]"
   ]
  },
  {
   "cell_type": "code",
   "execution_count": 192,
   "id": "c1b909bb-2f62-47e4-881a-24a23b3a0cb4",
   "metadata": {},
   "outputs": [],
   "source": [
    "all_remaining_customers.to_csv('all_remaining_customers.csv')"
   ]
  },
  {
   "cell_type": "code",
   "execution_count": 193,
   "id": "9b70e219-bb2a-497b-b49d-a0522b34bb33",
   "metadata": {},
   "outputs": [
    {
     "data": {
      "text/html": [
       "<div>\n",
       "<style scoped>\n",
       "    .dataframe tbody tr th:only-of-type {\n",
       "        vertical-align: middle;\n",
       "    }\n",
       "\n",
       "    .dataframe tbody tr th {\n",
       "        vertical-align: top;\n",
       "    }\n",
       "\n",
       "    .dataframe thead th {\n",
       "        text-align: right;\n",
       "    }\n",
       "</style>\n",
       "<table border=\"1\" class=\"dataframe\">\n",
       "  <thead>\n",
       "    <tr style=\"text-align: right;\">\n",
       "      <th></th>\n",
       "      <th>Churn Probability</th>\n",
       "    </tr>\n",
       "    <tr>\n",
       "      <th>CustomerID</th>\n",
       "      <th></th>\n",
       "    </tr>\n",
       "  </thead>\n",
       "  <tbody>\n",
       "    <tr>\n",
       "      <th>3588-WSTTJ</th>\n",
       "      <td>0.520902</td>\n",
       "    </tr>\n",
       "    <tr>\n",
       "      <th>7077-XJMET</th>\n",
       "      <td>0.520713</td>\n",
       "    </tr>\n",
       "    <tr>\n",
       "      <th>3737-XBQDD</th>\n",
       "      <td>0.520019</td>\n",
       "    </tr>\n",
       "    <tr>\n",
       "      <th>7901-HXJVA</th>\n",
       "      <td>0.519153</td>\n",
       "    </tr>\n",
       "    <tr>\n",
       "      <th>6522-YRBXD</th>\n",
       "      <td>0.518195</td>\n",
       "    </tr>\n",
       "  </tbody>\n",
       "</table>\n",
       "</div>"
      ],
      "text/plain": [
       "            Churn Probability\n",
       "CustomerID                   \n",
       "3588-WSTTJ           0.520902\n",
       "7077-XJMET           0.520713\n",
       "3737-XBQDD           0.520019\n",
       "7901-HXJVA           0.519153\n",
       "6522-YRBXD           0.518195"
      ]
     },
     "execution_count": 193,
     "metadata": {},
     "output_type": "execute_result"
    }
   ],
   "source": [
    "Most_at_risk.tail()"
   ]
  },
  {
   "cell_type": "code",
   "execution_count": null,
   "id": "9eaaa21b-7fea-4575-bc3d-7b3c9aea9f9e",
   "metadata": {},
   "outputs": [],
   "source": []
  },
  {
   "cell_type": "code",
   "execution_count": null,
   "id": "f2a91ffa-c7b3-4fb8-94b5-a5a205c84287",
   "metadata": {},
   "outputs": [],
   "source": []
  },
  {
   "cell_type": "code",
   "execution_count": null,
   "id": "dbb9c8af-b188-49dd-92e8-c89372842086",
   "metadata": {},
   "outputs": [],
   "source": []
  },
  {
   "cell_type": "code",
   "execution_count": null,
   "id": "348c458b-6e67-44d7-9dab-a908f9cf5d67",
   "metadata": {},
   "outputs": [],
   "source": []
  }
 ],
 "metadata": {
  "kernelspec": {
   "display_name": "Python [conda env:base] *",
   "language": "python",
   "name": "conda-base-py"
  },
  "language_info": {
   "codemirror_mode": {
    "name": "ipython",
    "version": 3
   },
   "file_extension": ".py",
   "mimetype": "text/x-python",
   "name": "python",
   "nbconvert_exporter": "python",
   "pygments_lexer": "ipython3",
   "version": "3.12.7"
  }
 },
 "nbformat": 4,
 "nbformat_minor": 5
}
